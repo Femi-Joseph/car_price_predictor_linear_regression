{
 "cells": [
  {
   "cell_type": "code",
   "execution_count": 2,
   "metadata": {},
   "outputs": [],
   "source": [
    "import pandas as pd\n",
    "import numpy as np\n",
    "import matplotlib.pyplot as plt\n",
    "import matplotlib as mpl\n",
    "%matplotlib inline\n",
    "mpl.style.use('ggplot')"
   ]
  },
  {
   "cell_type": "code",
   "execution_count": 3,
   "metadata": {},
   "outputs": [],
   "source": [
    "car=pd.read_csv('../Data/Australian Vehicle Prices.csv')"
   ]
  },
  {
   "cell_type": "code",
   "execution_count": 4,
   "metadata": {},
   "outputs": [
    {
     "data": {
      "text/html": [
       "<div>\n",
       "<style scoped>\n",
       "    .dataframe tbody tr th:only-of-type {\n",
       "        vertical-align: middle;\n",
       "    }\n",
       "\n",
       "    .dataframe tbody tr th {\n",
       "        vertical-align: top;\n",
       "    }\n",
       "\n",
       "    .dataframe thead th {\n",
       "        text-align: right;\n",
       "    }\n",
       "</style>\n",
       "<table border=\"1\" class=\"dataframe\">\n",
       "  <thead>\n",
       "    <tr style=\"text-align: right;\">\n",
       "      <th></th>\n",
       "      <th>Brand</th>\n",
       "      <th>Year</th>\n",
       "      <th>Model</th>\n",
       "      <th>Car/Suv</th>\n",
       "      <th>Title</th>\n",
       "      <th>UsedOrNew</th>\n",
       "      <th>Transmission</th>\n",
       "      <th>Engine</th>\n",
       "      <th>DriveType</th>\n",
       "      <th>FuelType</th>\n",
       "      <th>FuelConsumption</th>\n",
       "      <th>Kilometres</th>\n",
       "      <th>ColourExtInt</th>\n",
       "      <th>Location</th>\n",
       "      <th>CylindersinEngine</th>\n",
       "      <th>BodyType</th>\n",
       "      <th>Doors</th>\n",
       "      <th>Seats</th>\n",
       "      <th>Price</th>\n",
       "    </tr>\n",
       "  </thead>\n",
       "  <tbody>\n",
       "    <tr>\n",
       "      <th>0</th>\n",
       "      <td>Ssangyong</td>\n",
       "      <td>2022.0</td>\n",
       "      <td>Rexton</td>\n",
       "      <td>Sutherland Isuzu Ute</td>\n",
       "      <td>2022 Ssangyong Rexton Ultimate (awd)</td>\n",
       "      <td>DEMO</td>\n",
       "      <td>Automatic</td>\n",
       "      <td>4 cyl, 2.2 L</td>\n",
       "      <td>AWD</td>\n",
       "      <td>Diesel</td>\n",
       "      <td>8.7 L / 100 km</td>\n",
       "      <td>5595</td>\n",
       "      <td>White / Black</td>\n",
       "      <td>Caringbah, NSW</td>\n",
       "      <td>4 cyl</td>\n",
       "      <td>SUV</td>\n",
       "      <td>4 Doors</td>\n",
       "      <td>7 Seats</td>\n",
       "      <td>51990</td>\n",
       "    </tr>\n",
       "    <tr>\n",
       "      <th>1</th>\n",
       "      <td>MG</td>\n",
       "      <td>2022.0</td>\n",
       "      <td>MG3</td>\n",
       "      <td>Hatchback</td>\n",
       "      <td>2022 MG MG3 Auto Excite (with Navigation)</td>\n",
       "      <td>USED</td>\n",
       "      <td>Automatic</td>\n",
       "      <td>4 cyl, 1.5 L</td>\n",
       "      <td>Front</td>\n",
       "      <td>Premium</td>\n",
       "      <td>6.7 L / 100 km</td>\n",
       "      <td>16</td>\n",
       "      <td>Black / Black</td>\n",
       "      <td>Brookvale, NSW</td>\n",
       "      <td>4 cyl</td>\n",
       "      <td>Hatchback</td>\n",
       "      <td>5 Doors</td>\n",
       "      <td>5 Seats</td>\n",
       "      <td>19990</td>\n",
       "    </tr>\n",
       "    <tr>\n",
       "      <th>2</th>\n",
       "      <td>BMW</td>\n",
       "      <td>2022.0</td>\n",
       "      <td>430I</td>\n",
       "      <td>Coupe</td>\n",
       "      <td>2022 BMW 430I M Sport</td>\n",
       "      <td>USED</td>\n",
       "      <td>Automatic</td>\n",
       "      <td>4 cyl, 2 L</td>\n",
       "      <td>Rear</td>\n",
       "      <td>Premium</td>\n",
       "      <td>6.6 L / 100 km</td>\n",
       "      <td>8472</td>\n",
       "      <td>Grey / White</td>\n",
       "      <td>Sylvania, NSW</td>\n",
       "      <td>4 cyl</td>\n",
       "      <td>Coupe</td>\n",
       "      <td>2 Doors</td>\n",
       "      <td>4 Seats</td>\n",
       "      <td>108988</td>\n",
       "    </tr>\n",
       "    <tr>\n",
       "      <th>3</th>\n",
       "      <td>Mercedes-Benz</td>\n",
       "      <td>2011.0</td>\n",
       "      <td>E500</td>\n",
       "      <td>Coupe</td>\n",
       "      <td>2011 Mercedes-Benz E500 Elegance</td>\n",
       "      <td>USED</td>\n",
       "      <td>Automatic</td>\n",
       "      <td>8 cyl, 5.5 L</td>\n",
       "      <td>Rear</td>\n",
       "      <td>Premium</td>\n",
       "      <td>11 L / 100 km</td>\n",
       "      <td>136517</td>\n",
       "      <td>White / Brown</td>\n",
       "      <td>Mount Druitt, NSW</td>\n",
       "      <td>8 cyl</td>\n",
       "      <td>Coupe</td>\n",
       "      <td>2 Doors</td>\n",
       "      <td>4 Seats</td>\n",
       "      <td>32990</td>\n",
       "    </tr>\n",
       "    <tr>\n",
       "      <th>4</th>\n",
       "      <td>Renault</td>\n",
       "      <td>2022.0</td>\n",
       "      <td>Arkana</td>\n",
       "      <td>SUV</td>\n",
       "      <td>2022 Renault Arkana Intens</td>\n",
       "      <td>USED</td>\n",
       "      <td>Automatic</td>\n",
       "      <td>4 cyl, 1.3 L</td>\n",
       "      <td>Front</td>\n",
       "      <td>Unleaded</td>\n",
       "      <td>6 L / 100 km</td>\n",
       "      <td>1035</td>\n",
       "      <td>Grey / Black</td>\n",
       "      <td>Castle Hill, NSW</td>\n",
       "      <td>4 cyl</td>\n",
       "      <td>SUV</td>\n",
       "      <td>4 Doors</td>\n",
       "      <td>5 Seats</td>\n",
       "      <td>34990</td>\n",
       "    </tr>\n",
       "  </tbody>\n",
       "</table>\n",
       "</div>"
      ],
      "text/plain": [
       "           Brand    Year   Model               Car/Suv  \\\n",
       "0      Ssangyong  2022.0  Rexton  Sutherland Isuzu Ute   \n",
       "1             MG  2022.0     MG3             Hatchback   \n",
       "2            BMW  2022.0    430I                 Coupe   \n",
       "3  Mercedes-Benz  2011.0    E500                 Coupe   \n",
       "4        Renault  2022.0  Arkana                   SUV   \n",
       "\n",
       "                                       Title UsedOrNew Transmission  \\\n",
       "0       2022 Ssangyong Rexton Ultimate (awd)      DEMO    Automatic   \n",
       "1  2022 MG MG3 Auto Excite (with Navigation)      USED    Automatic   \n",
       "2                      2022 BMW 430I M Sport      USED    Automatic   \n",
       "3           2011 Mercedes-Benz E500 Elegance      USED    Automatic   \n",
       "4                 2022 Renault Arkana Intens      USED    Automatic   \n",
       "\n",
       "         Engine DriveType  FuelType FuelConsumption Kilometres   ColourExtInt  \\\n",
       "0  4 cyl, 2.2 L       AWD    Diesel  8.7 L / 100 km       5595  White / Black   \n",
       "1  4 cyl, 1.5 L     Front   Premium  6.7 L / 100 km         16  Black / Black   \n",
       "2    4 cyl, 2 L      Rear   Premium  6.6 L / 100 km       8472   Grey / White   \n",
       "3  8 cyl, 5.5 L      Rear   Premium   11 L / 100 km     136517  White / Brown   \n",
       "4  4 cyl, 1.3 L     Front  Unleaded    6 L / 100 km       1035   Grey / Black   \n",
       "\n",
       "            Location CylindersinEngine   BodyType     Doors     Seats   Price  \n",
       "0     Caringbah, NSW             4 cyl        SUV   4 Doors   7 Seats   51990  \n",
       "1     Brookvale, NSW             4 cyl  Hatchback   5 Doors   5 Seats   19990  \n",
       "2      Sylvania, NSW             4 cyl      Coupe   2 Doors   4 Seats  108988  \n",
       "3  Mount Druitt, NSW             8 cyl      Coupe   2 Doors   4 Seats   32990  \n",
       "4   Castle Hill, NSW             4 cyl        SUV   4 Doors   5 Seats   34990  "
      ]
     },
     "execution_count": 4,
     "metadata": {},
     "output_type": "execute_result"
    }
   ],
   "source": [
    "car.head()"
   ]
  },
  {
   "cell_type": "code",
   "execution_count": 5,
   "metadata": {},
   "outputs": [
    {
     "data": {
      "text/plain": [
       "(16734, 19)"
      ]
     },
     "execution_count": 5,
     "metadata": {},
     "output_type": "execute_result"
    }
   ],
   "source": [
    "car.shape"
   ]
  },
  {
   "cell_type": "code",
   "execution_count": 6,
   "metadata": {},
   "outputs": [
    {
     "name": "stdout",
     "output_type": "stream",
     "text": [
      "<class 'pandas.core.frame.DataFrame'>\n",
      "RangeIndex: 16734 entries, 0 to 16733\n",
      "Data columns (total 19 columns):\n",
      " #   Column             Non-Null Count  Dtype  \n",
      "---  ------             --------------  -----  \n",
      " 0   Brand              16733 non-null  object \n",
      " 1   Year               16733 non-null  float64\n",
      " 2   Model              16733 non-null  object \n",
      " 3   Car/Suv            16706 non-null  object \n",
      " 4   Title              16733 non-null  object \n",
      " 5   UsedOrNew          16733 non-null  object \n",
      " 6   Transmission       16733 non-null  object \n",
      " 7   Engine             16733 non-null  object \n",
      " 8   DriveType          16733 non-null  object \n",
      " 9   FuelType           16733 non-null  object \n",
      " 10  FuelConsumption    16733 non-null  object \n",
      " 11  Kilometres         16733 non-null  object \n",
      " 12  ColourExtInt       16733 non-null  object \n",
      " 13  Location           16284 non-null  object \n",
      " 14  CylindersinEngine  16733 non-null  object \n",
      " 15  BodyType           16452 non-null  object \n",
      " 16  Doors              15130 non-null  object \n",
      " 17  Seats              15029 non-null  object \n",
      " 18  Price              16731 non-null  object \n",
      "dtypes: float64(1), object(18)\n",
      "memory usage: 2.4+ MB\n"
     ]
    }
   ],
   "source": [
    "car.info()"
   ]
  },
  {
   "cell_type": "code",
   "execution_count": 7,
   "metadata": {},
   "outputs": [
    {
     "data": {
      "text/plain": [
       "array(['51990', '19990', '108988', ..., '21989', '36770', '35280'],\n",
       "      dtype=object)"
      ]
     },
     "execution_count": 7,
     "metadata": {},
     "output_type": "execute_result"
    }
   ],
   "source": [
    "car['Price'].unique()"
   ]
  },
  {
   "cell_type": "markdown",
   "metadata": {},
   "source": [
    "# Year column contain null value and all are float type"
   ]
  },
  {
   "cell_type": "code",
   "execution_count": 8,
   "metadata": {},
   "outputs": [],
   "source": [
    "car = car.dropna(subset=['Year'])\n",
    "car['Year'] = car['Year'].astype(int)"
   ]
  },
  {
   "cell_type": "code",
   "execution_count": 9,
   "metadata": {},
   "outputs": [
    {
     "data": {
      "text/plain": [
       "(16733, 19)"
      ]
     },
     "execution_count": 9,
     "metadata": {},
     "output_type": "execute_result"
    }
   ],
   "source": [
    "car.shape"
   ]
  },
  {
   "cell_type": "markdown",
   "metadata": {},
   "source": [
    "# Price column string data and contain value 'POA' value which not able to convert integer. remove all such values"
   ]
  },
  {
   "cell_type": "code",
   "execution_count": 10,
   "metadata": {},
   "outputs": [],
   "source": [
    "car = car[car['Price'].apply(lambda x: str(x).isdigit())]  # Keep only rows with numeric values\n",
    "car['Price'] = car['Price'].astype(int)\n",
    "\n"
   ]
  },
  {
   "cell_type": "code",
   "execution_count": 11,
   "metadata": {},
   "outputs": [
    {
     "data": {
      "text/plain": [
       "numpy.int64"
      ]
     },
     "execution_count": 11,
     "metadata": {},
     "output_type": "execute_result"
    }
   ],
   "source": [
    "type(car['Price'][0])"
   ]
  },
  {
   "cell_type": "code",
   "execution_count": 12,
   "metadata": {},
   "outputs": [
    {
     "data": {
      "text/plain": [
       "(16681, 19)"
      ]
     },
     "execution_count": 12,
     "metadata": {},
     "output_type": "execute_result"
    }
   ],
   "source": [
    "car.shape"
   ]
  },
  {
   "cell_type": "code",
   "execution_count": 13,
   "metadata": {},
   "outputs": [
    {
     "data": {
      "text/plain": [
       "array([' 7 Seats', ' 5 Seats', ' 4 Seats', nan, ' 2 Seats', ' 3 Seats',\n",
       "       ' 14 Seats', ' 8 Seats', ' 6 Seats', ' 9 Seats', ' 11 Seats',\n",
       "       ' 12 Seats', ' 22 Seats', ' 15 Seats'], dtype=object)"
      ]
     },
     "execution_count": 13,
     "metadata": {},
     "output_type": "execute_result"
    }
   ],
   "source": [
    "car['Seats'].unique()"
   ]
  },
  {
   "cell_type": "code",
   "execution_count": 14,
   "metadata": {},
   "outputs": [],
   "source": [
    "car = car.dropna(subset=['Seats'])\n",
    "# Extract the numeric part and convert to integer\n",
    "# Convert to string, extract numeric part, and convert to integer\n",
    "car['Seats'] = car['Seats'].astype(str).str.extract(r'(\\d+)').astype(float).astype(int)\n",
    "\n",
    "#car['Seats'] = car['Seats'].str.extract(r'(\\d+)').astype(float).astype(int)"
   ]
  },
  {
   "cell_type": "code",
   "execution_count": 15,
   "metadata": {},
   "outputs": [
    {
     "data": {
      "text/plain": [
       "(14993, 19)"
      ]
     },
     "execution_count": 15,
     "metadata": {},
     "output_type": "execute_result"
    }
   ],
   "source": [
    "car.shape"
   ]
  },
  {
   "cell_type": "code",
   "execution_count": 16,
   "metadata": {},
   "outputs": [
    {
     "name": "stdout",
     "output_type": "stream",
     "text": [
      "<class 'pandas.core.frame.DataFrame'>\n",
      "Index: 14993 entries, 0 to 16733\n",
      "Data columns (total 19 columns):\n",
      " #   Column             Non-Null Count  Dtype \n",
      "---  ------             --------------  ----- \n",
      " 0   Brand              14993 non-null  object\n",
      " 1   Year               14993 non-null  int64 \n",
      " 2   Model              14993 non-null  object\n",
      " 3   Car/Suv            14980 non-null  object\n",
      " 4   Title              14993 non-null  object\n",
      " 5   UsedOrNew          14993 non-null  object\n",
      " 6   Transmission       14993 non-null  object\n",
      " 7   Engine             14993 non-null  object\n",
      " 8   DriveType          14993 non-null  object\n",
      " 9   FuelType           14993 non-null  object\n",
      " 10  FuelConsumption    14993 non-null  object\n",
      " 11  Kilometres         14993 non-null  object\n",
      " 12  ColourExtInt       14993 non-null  object\n",
      " 13  Location           14551 non-null  object\n",
      " 14  CylindersinEngine  14993 non-null  object\n",
      " 15  BodyType           14993 non-null  object\n",
      " 16  Doors              14993 non-null  object\n",
      " 17  Seats              14993 non-null  int64 \n",
      " 18  Price              14993 non-null  int64 \n",
      "dtypes: int64(3), object(16)\n",
      "memory usage: 2.3+ MB\n"
     ]
    }
   ],
   "source": [
    "car.info()"
   ]
  },
  {
   "cell_type": "code",
   "execution_count": 17,
   "metadata": {},
   "outputs": [
    {
     "data": {
      "text/plain": [
       "array(['Caringbah, NSW', 'Brookvale, NSW', 'Sylvania, NSW',\n",
       "       'Mount Druitt, NSW', 'Castle Hill, NSW', 'Blacktown, NSW',\n",
       "       'Wentworthville, NSW', 'Mcgraths Hill, NSW', 'Lidcombe, NSW',\n",
       "       'Five Dock, NSW', 'Haberfield, NSW', 'Cabramatta, NSW',\n",
       "       'Glebe, NSW', 'Camden, NSW', 'Lansvale, NSW', 'Croydon, NSW',\n",
       "       'Pendle Hill, NSW', 'Smithfield, NSW', 'Seven Hills, NSW',\n",
       "       'Granville, NSW', 'Minchinbury, NSW', 'Ryde, NSW',\n",
       "       'Ingleburn, NSW', 'Homebush, NSW', 'Elderslie, NSW',\n",
       "       'Campbelltown, NSW', 'Bankstown, NSW', 'North Narrabeen, NSW',\n",
       "       'Chester Hill, NSW', 'Liverpool, NSW', 'West Ryde, NSW',\n",
       "       'Kirrawee, NSW', 'Minto, NSW', 'Windsor, NSW', 'Penrith, NSW',\n",
       "       'Kogarah, NSW', 'South Windsor, NSW', 'Artarmon, NSW',\n",
       "       'Arncliffe, NSW', 'Darlinghurst, NSW', 'Eastern Creek, NSW',\n",
       "       'Rydalmere, NSW', 'Carlton, NSW', 'Leichhardt, NSW',\n",
       "       'Punchbowl, NSW', 'Strathfield, NSW', 'Wollongong, NSW',\n",
       "       'Banksia, NSW', 'Adamstown, NSW', 'Cardiff, NSW',\n",
       "       'Pennant Hills, NSW', 'East Maitland, NSW', 'Rozelle, NSW',\n",
       "       'Petersham, NSW', 'Jamisontown, NSW', 'Gateshead, NSW',\n",
       "       'Kurri Kurri, NSW', 'Smeaton Grange, NSW', 'Richmond, NSW',\n",
       "       'Milperra, NSW', 'Rushcutters Bay, NSW', 'Waitara, NSW',\n",
       "       'Singleton, NSW', 'Warwick Farm, NSW', 'Chipping Norton, NSW',\n",
       "       'Taylors Beach, NSW', 'Taree, NSW', 'Port Macquarie, NSW',\n",
       "       'Belmore, NSW', 'Roselands, NSW', 'Moorebank, NSW', 'Berwick, VIC',\n",
       "       'Regents Park, NSW', 'Yagoona, NSW', 'Upper Ferntree Gully, VIC',\n",
       "       'Sutherland, NSW', 'Molendinar, QLD', 'Pakenham, VIC',\n",
       "       'Auburn, NSW', 'Southport, QLD', 'Narellan, NSW', 'Lilydale, VIC',\n",
       "       'Epping, VIC', 'Fairfield East, NSW', 'Tweed Heads South, NSW',\n",
       "       'Greenacre, NSW', 'Sydney, NSW', 'South Hurstville, NSW',\n",
       "       'Revesby, NSW', 'Archerfield, QLD', 'Saint Marys, NSW',\n",
       "       'Mornington, VIC', 'Cheltenham, VIC', 'Bentleigh, VIC',\n",
       "       'Capalaba, QLD', 'Coopers Plains, QLD', 'Roseville, NSW',\n",
       "       'Waterloo, NSW', 'Thornleigh, NSW', 'Zetland, NSW',\n",
       "       'Laverton North, VIC', 'Alexandria, NSW', 'Chatswood, NSW',\n",
       "       'Slacks Creek, QLD', 'Underwood, QLD', 'Banyo, QLD', 'Mascot, NSW',\n",
       "       'Burwood, NSW', 'Braeside, VIC', 'Morayfield, QLD',\n",
       "       'Bells Creek, QLD', 'Enfield, SA', 'Goolwa, SA', 'Strathalbyn, SA',\n",
       "       'Condell Park, NSW', 'Cheltenham, SA', 'Melrose Park, SA',\n",
       "       'Morphett Vale, SA', 'Brighton, SA', 'Townsville, QLD',\n",
       "       'Bassendean, WA', 'Bentley, WA', 'Welshpool, WA',\n",
       "       'Osborne Park, WA', 'Dudley Park, WA', 'Cannington, WA',\n",
       "       'Mosman, NSW', 'Mandurah, WA', 'Leumeah, NSW', 'Rockingham, WA',\n",
       "       'Nedlands, WA', 'Myaree, WA', 'Bunbury, WA', 'Ashfield, NSW',\n",
       "       'Bibra Lake, WA', 'Monterey, NSW', 'Balcatta, WA',\n",
       "       'Homebush West, NSW', 'Carss Park, NSW', 'Stanmore, NSW',\n",
       "       'Padstow, NSW', 'Wangara, WA', 'Clarkson, WA', 'Campsie, NSW',\n",
       "       'North Strathfield, NSW', 'McDougalls Hill, NSW', 'Labrador, QLD',\n",
       "       'Fairfield, VIC', 'Kellyville, NSW', 'Camira, QLD',\n",
       "       'Lindfield, NSW', 'Concord, NSW', 'Essendon, VIC', 'Chullora, NSW',\n",
       "       'Mount Lawley, WA', 'West Gosford, NSW', 'North Wollongong, NSW',\n",
       "       'Albion Park, NSW', 'Yallah, NSW', 'Lisarow, NSW',\n",
       "       'Albion Park Rail, NSW', 'Erina, NSW', 'Tuggerah, NSW',\n",
       "       'Oak Flats, NSW', 'Lithgow, NSW', 'Mittagong, NSW', 'Gosford, NSW',\n",
       "       'Windang, NSW', 'Hamilton East, NSW', 'Bowral, NSW',\n",
       "       'Beresfield, NSW', 'Maryville, NSW', 'Hamilton, NSW',\n",
       "       'South Nowra, NSW', 'Sandgate, NSW', 'Nowra, NSW',\n",
       "       'Medlow Bath, NSW', 'Moss Vale, NSW', 'Waratah, NSW',\n",
       "       'Warners Bay, NSW', 'New Lambton, NSW', 'Dapto, NSW',\n",
       "       'Boolaroo, NSW', 'Lambton, NSW', 'Wickham, NSW', 'Maitland, NSW',\n",
       "       'Mayfield West, NSW', 'Rutherford, NSW', 'Hamilton North, NSW',\n",
       "       'Truganina, VIC', 'Mayfield, NSW', 'Glendale, NSW',\n",
       "       'Edgeworth, NSW', 'Cessnock, NSW', 'Broadmeadow, NSW',\n",
       "       'Kelso, NSW', 'Heatherbrae, NSW', 'Bathurst, NSW',\n",
       "       'Bennetts Green, NSW', 'Islington, NSW', 'Raymond Terrace, NSW',\n",
       "       'Taren Point, NSW', 'Belmont, NSW', 'Newcastle West, NSW',\n",
       "       'Goulburn, NSW', 'Muswellbrook, NSW', 'Ulladulla, NSW',\n",
       "       'Orange, NSW', 'Yass, NSW', 'Fyshwick, ACT', 'Phillip, ACT',\n",
       "       'Crookwell, NSW', 'Belconnen, ACT', 'Hume, ACT', 'Branxton, NSW',\n",
       "       'Gungahlin, ACT', 'Tuncurry, NSW', 'Batemans Bay, NSW',\n",
       "       'Moruya, NSW', 'Greenway, ACT', 'Harrington, NSW', 'Wauchope, NSW',\n",
       "       'South Tamworth, NSW', 'Bega, NSW', 'Armidale, NSW',\n",
       "       'Lavington, NSW', 'Coffs Harbour, NSW', 'Holbrook, NSW',\n",
       "       'Walla Walla, NSW', 'Wodonga, VIC', 'Forbes, NSW',\n",
       "       'Bairnsdale, VIC', 'Lismore, NSW', 'Stanthorpe, QLD',\n",
       "       'Shepparton, VIC', 'Walcha, NSW', 'Traralgon, VIC', 'Seymour, VIC',\n",
       "       'West Ballina, NSW', 'Wangaratta, VIC', 'Echuca, VIC',\n",
       "       'Kyabram, VIC', 'Dandenong, VIC', 'Dandenong South, VIC',\n",
       "       'Bayswater, VIC', 'Vermont, VIC', 'Tugun, QLD', 'Ashmore, QLD',\n",
       "       'Thomastown, VIC', 'Burwood, VIC', 'Narre Warren, VIC',\n",
       "       'Alphington, VIC', 'Mulgrave, VIC', 'HEIDELBERG, VIC',\n",
       "       'Preston, VIC', 'Ringwood, VIC', 'Springvale, VIC',\n",
       "       'Ferntree Gully, VIC', 'Nunawading, VIC', 'Epsom, VIC',\n",
       "       'Coburg North, VIC', 'Boronia, VIC', 'Bundoora, VIC',\n",
       "       'Fawkner, VIC', 'Thornbury, VIC', 'Burleigh Heads, QLD',\n",
       "       'Nerang, QLD', 'Robina, QLD', 'Arundel, QLD', 'South Morang, VIC',\n",
       "       'SOUTH MORANG, VIC', 'Helensvale, QLD', 'Loftville, NSW',\n",
       "       'Hallam, VIC', 'Officer, VIC', 'CAMBERWELL, VIC', 'Watsonia, VIC',\n",
       "       'EPPING, VIC', 'Balwyn, VIC', 'Warragul, VIC',\n",
       "       'South Grafton, NSW', 'Currumbin Waters, QLD', 'Morwell, VIC',\n",
       "       'Bendigo, VIC', 'Mitcham, VIC', 'Biggera Waters, QLD',\n",
       "       'Doncaster, VIC', 'FAWKNER, VIC', 'Golden Square, VIC',\n",
       "       'Mill Park, VIC', 'Wantirna, VIC', 'Tweed Heads, NSW',\n",
       "       'Campbellfield, VIC', 'DONCASTER, VIC', 'Seaford, VIC',\n",
       "       'Moorabbin, VIC', 'Mordialloc, VIC', 'Braybrook, VIC',\n",
       "       'Carrum Downs, VIC', 'Dingley Village, VIC', 'Coorparoo, QLD',\n",
       "       'Avondale Heights, VIC', 'Rocklea, QLD', 'Frankston, VIC',\n",
       "       'Kedron, QLD', 'Albion, QLD', 'Port Melbourne, VIC',\n",
       "       'Mount Gravatt, QLD', 'West Footscray, VIC', 'Pinkenba, QLD',\n",
       "       'Moorooka, QLD', 'Deer Park, VIC', 'SOUTH MELBOURNE, VIC',\n",
       "       'Maidstone, VIC', 'Brooklyn, VIC', 'Ravenhall, VIC',\n",
       "       'Oakleigh, VIC', 'Morningside, QLD', 'Hoppers Crossing, VIC',\n",
       "       'Everton Hills, QLD', 'Greenslopes, QLD', 'Ipswich, QLD',\n",
       "       'Clayton South, VIC', 'Hamilton, QLD', 'Springwood, QLD',\n",
       "       'Elsternwick, VIC', 'Eagle Farm, QLD', 'Point Cook, VIC',\n",
       "       'Toowoomba, QLD', 'Williamstown, VIC', 'Hendra, QLD',\n",
       "       'Chermside, QLD', 'Werribee, VIC', 'South Melbourne, VIC',\n",
       "       'Cranbourne, VIC', 'Mansfield, QLD', 'Altona North, VIC',\n",
       "       'Toowoomba City, QLD', 'Coburg, VIC', 'Acacia Ridge, QLD',\n",
       "       'South Toowoomba, QLD', 'Croydon, VIC', 'Sumner, QLD',\n",
       "       'Swan Hill, VIC', 'Coomera, QLD', 'Mudgeeraba, QLD',\n",
       "       'Tingalpa, QLD', 'Nundah, QLD', 'Woodridge, QLD',\n",
       "       'Essendon Fields, VIC', 'Brighton, VIC', 'Cleveland, QLD',\n",
       "       'Browns Plains, QLD', 'Yatala, QLD', 'Virginia, QLD',\n",
       "       'Woongoolba, QLD', 'Hillcrest, QLD', 'Loganholme, QLD',\n",
       "       'Keysborough, VIC', 'Melbourne, VIC', 'Windsor, QLD',\n",
       "       'Sunbury, VIC', 'North Ipswich, QLD', 'Sunnybank Hills, QLD',\n",
       "       'Indooroopilly, QLD', 'Eight Mile Plains, QLD', 'Aspley, QLD',\n",
       "       'Mentone, VIC', 'MELBOURNE, VIC', 'Southbank, VIC',\n",
       "       'Kelvin Grove, QLD', 'Parkdale, VIC', 'Tullamarine, VIC',\n",
       "       'Geebung, QLD', 'Gatton, QLD', 'Glenroy, VIC', 'St Albans, VIC',\n",
       "       'Keilor East, VIC', 'Wacol, QLD', 'Melton, VIC', 'Reservoir, VIC',\n",
       "       'Hastings, VIC', 'Yamanto, QLD', 'Bacchus Marsh, VIC',\n",
       "       'Fortitude Valley, QLD', 'Williamstown North, VIC',\n",
       "       'Seventeen Mile Rocks, QLD', 'Yarraville, VIC',\n",
       "       'Bentleigh East, VIC', 'Murarrie, QLD', 'Thornlands, QLD',\n",
       "       'Holland Park West, QLD', 'Footscray, VIC', 'Oakleigh South, VIC',\n",
       "       'Wilston, QLD', 'Caroline Springs, VIC', 'Derrimut, VIC',\n",
       "       'Dinmore, QLD', 'Bundamba, QLD', 'Sunshine North, VIC',\n",
       "       'Clontarf, QLD', 'Geelong, VIC', 'South Geelong, VIC',\n",
       "       'Strathpine, QLD', 'Wendouree, VIC', 'Northgate, QLD',\n",
       "       'North Geelong, VIC', 'North Lakes, QLD', 'Lawnton, QLD',\n",
       "       'Brown Hill, VIC', 'Ballarat, VIC', 'Tyabb, VIC', 'Newtown, VIC',\n",
       "       'Sebastopol, VIC', 'Geelong West, VIC', 'Redcliffe, QLD',\n",
       "       'Belmont, VIC', 'Mount Pleasant, VIC', 'Maroochydore, QLD',\n",
       "       'Mooloolaba, QLD', 'Currimundi, QLD', 'Caloundra West, QLD',\n",
       "       'Buderim, QLD', 'Rosemount, QLD', 'Kunda Park, QLD',\n",
       "       'Noosaville, QLD', 'Ararat, VIC', 'Colac West, VIC',\n",
       "       'Nambour, QLD', 'Horsham, VIC', 'Gympie, QLD',\n",
       "       'Warrenheip, AU-VIC', 'Delacombe, VIC', 'Caboolture, QLD',\n",
       "       'Brendale, QLD', 'Corio, VIC', 'Ningi, QLD',\n",
       "       'Alexandra Headland, QLD', 'Stafford, QLD', 'Sippy Downs, QLD',\n",
       "       'Launceston, TAS', 'Warrnambool, VIC', 'Camdale, TAS',\n",
       "       'Devonport, TAS', 'South Burnie, TAS', 'LOXTON, SA', 'Pialba, QLD',\n",
       "       'Bundaberg West, QLD', 'Kensington, QLD', 'Mount Gambier, SA',\n",
       "       'Bundaberg, QLD', 'North Hobart, TAS', 'Biloela, QLD',\n",
       "       'Hobart, TAS', 'Derwent Park, TAS', 'Glenorchy, TAS',\n",
       "       'Murray Bridge, SA', 'Moonah, TAS', 'New Town, TAS',\n",
       "       'Salisbury Park, SA', 'Blair Athol, SA', 'Gilles Plains, SA',\n",
       "       'Hillcrest, SA', 'Prospect, SA', 'Newton, SA', 'Totness, SA',\n",
       "       'Salisbury, SA', 'Gawler South, SA', 'Ingle Farm, SA', 'Clare, SA',\n",
       "       'Nuriootpa, SA', 'Para Hills West, SA', 'Gladstone, QLD',\n",
       "       'Klemzig, SA', 'Windsor Gardens, SA', 'Elizabeth, SA',\n",
       "       'Hawthorn, SA', 'Gepps Cross, SA', 'Hampstead Gardens, SA',\n",
       "       'Nailsworth, SA', 'Valley View, SA', 'Fullarton, SA',\n",
       "       'Medindie, SA', 'Pooraka, SA', 'West Gladstone, QLD',\n",
       "       'Gulfview Heights, SA', 'Wayville, SA', 'Mile End, SA',\n",
       "       'Brisbane, QLD', 'Saint Marys, SA', 'Plympton Park, SA',\n",
       "       'Mile End South, SA', 'Thebarton, SA', 'West Croydon, SA',\n",
       "       'Somerton Park, SA', 'Adelaide, SA', 'Edwardstown, SA',\n",
       "       'Christies Beach, SA', 'Emerald, QLD', 'Glenelg, SA',\n",
       "       'Darlington, SA', 'Hindmarsh, SA', 'North Rockhampton, QLD',\n",
       "       'Chinchilla, QLD', 'Albert Park, SA', 'Reynella, SA',\n",
       "       'Beverley, SA', 'Plympton, SA', 'Victor Harbor, SA',\n",
       "       'Lonsdale, SA', 'Torrensville, SA', 'Rosewater, SA',\n",
       "       'Coolum Beach, QLD', 'Woodville, SA', 'Moffat Beach, QLD',\n",
       "       'Port Augusta, SA', 'Mackay, QLD', 'West End, QLD', 'Garbutt, QLD',\n",
       "       'Mount Louisa, QLD', 'Youngtown, TAS', 'Hermit Park, QLD',\n",
       "       'Westcourt, QLD', 'Cairns City, QLD', 'Bungalow, QLD',\n",
       "       'Cairns, QLD', 'Earlville, QLD', 'Mildura, VIC', 'Pinelands, NT',\n",
       "       'Berrimah, NT', 'Winnellie, NT', 'Stuart Park, NT', 'Darwin, NT',\n",
       "       'Collie, WA', 'Kelmscott, WA', 'Victoria Park, WA', 'Bellevue, WA',\n",
       "       'Palmyra, WA', 'Saint James, WA', 'Morley, WA', 'Como, WA',\n",
       "       'Mount Barker, SA', 'Maddington, WA', 'Invermay, TAS',\n",
       "       'Attadale, WA', 'Bridgewater, SA', 'East Bunbury, WA',\n",
       "       'Loxton, SA', 'Bundaberg North, QLD', 'Kenwick, WA', 'Seaford, SA',\n",
       "       'Norwood, SA', 'Bowden, SA', 'Park Holme, SA', 'West Lakes, SA',\n",
       "       'Hyde Park, SA', 'St Marys, SA', 'Parramatta Park, QLD',\n",
       "       'Goodwood, SA', 'West Perth, WA', 'Bayswater, WA', 'Midland, WA',\n",
       "       'Burswood, WA', 'Gosnells, WA', 'South Bunbury, WA',\n",
       "       'Hyde Park, QLD', 'Melville, WA', 'Wagin, WA', 'Canning Vale, WA',\n",
       "       'Wongan Hills, WA', 'Jandakot, WA', 'East Victoria Park, WA',\n",
       "       'Hamilton Hill, WA', 'Northbridge, WA', 'Edgewater, WA',\n",
       "       'KINGSLEY, WA', 'Craigie, WA', 'Busselton, WA', 'Geraldton, WA',\n",
       "       'Beresford, WA', nan, 'Wonthella, WA', 'Webberton, WA',\n",
       "       'Kings Park, NSW', 'Peakhurst, NSW', 'Ermington, NSW',\n",
       "       'Greystanes, NSW', 'Wellington, NSW', 'West Tamworth, NSW',\n",
       "       'Wagga Wagga, NSW', 'Sale, VIC', 'Casino, NSW', 'Beaudesert, QLD',\n",
       "       'Roxburgh Park, VIC', 'East Toowoomba, QLD'], dtype=object)"
      ]
     },
     "execution_count": 17,
     "metadata": {},
     "output_type": "execute_result"
    }
   ],
   "source": [
    "car['Location'].unique()"
   ]
  },
  {
   "cell_type": "code",
   "execution_count": 18,
   "metadata": {},
   "outputs": [],
   "source": [
    "car = car.dropna(subset=['Location'])"
   ]
  },
  {
   "cell_type": "code",
   "execution_count": 19,
   "metadata": {},
   "outputs": [
    {
     "data": {
      "text/plain": [
       "(14551, 19)"
      ]
     },
     "execution_count": 19,
     "metadata": {},
     "output_type": "execute_result"
    }
   ],
   "source": [
    "car.shape"
   ]
  },
  {
   "cell_type": "code",
   "execution_count": 20,
   "metadata": {},
   "outputs": [
    {
     "name": "stdout",
     "output_type": "stream",
     "text": [
      "<class 'pandas.core.frame.DataFrame'>\n",
      "Index: 14551 entries, 0 to 16733\n",
      "Data columns (total 19 columns):\n",
      " #   Column             Non-Null Count  Dtype \n",
      "---  ------             --------------  ----- \n",
      " 0   Brand              14551 non-null  object\n",
      " 1   Year               14551 non-null  int64 \n",
      " 2   Model              14551 non-null  object\n",
      " 3   Car/Suv            14551 non-null  object\n",
      " 4   Title              14551 non-null  object\n",
      " 5   UsedOrNew          14551 non-null  object\n",
      " 6   Transmission       14551 non-null  object\n",
      " 7   Engine             14551 non-null  object\n",
      " 8   DriveType          14551 non-null  object\n",
      " 9   FuelType           14551 non-null  object\n",
      " 10  FuelConsumption    14551 non-null  object\n",
      " 11  Kilometres         14551 non-null  object\n",
      " 12  ColourExtInt       14551 non-null  object\n",
      " 13  Location           14551 non-null  object\n",
      " 14  CylindersinEngine  14551 non-null  object\n",
      " 15  BodyType           14551 non-null  object\n",
      " 16  Doors              14551 non-null  object\n",
      " 17  Seats              14551 non-null  int64 \n",
      " 18  Price              14551 non-null  int64 \n",
      "dtypes: int64(3), object(16)\n",
      "memory usage: 2.2+ MB\n"
     ]
    }
   ],
   "source": [
    "car.info()"
   ]
  },
  {
   "cell_type": "code",
   "execution_count": 21,
   "metadata": {},
   "outputs": [
    {
     "data": {
      "text/plain": [
       "array([' 4 Doors', ' 5 Doors', ' 2 Doors', ' 3 Doors'], dtype=object)"
      ]
     },
     "execution_count": 21,
     "metadata": {},
     "output_type": "execute_result"
    }
   ],
   "source": [
    "car['Doors'].unique()"
   ]
  },
  {
   "cell_type": "code",
   "execution_count": 22,
   "metadata": {},
   "outputs": [],
   "source": [
    "car = car.dropna(subset=['Doors'])\n",
    "# Extract the numeric part and convert to integer\n",
    "# Convert to string, extract numeric part, and convert to integer\n",
    "car['Doors'] = car['Doors'].astype(str).str.extract(r'(\\d+)').astype(float).astype(int)\n",
    "\n",
    "#car['Seats'] = car['Seats'].str.extract(r'(\\d+)').astype(float).astype(int)"
   ]
  },
  {
   "cell_type": "code",
   "execution_count": 23,
   "metadata": {},
   "outputs": [
    {
     "data": {
      "text/plain": [
       "array([4, 5, 2, 3])"
      ]
     },
     "execution_count": 23,
     "metadata": {},
     "output_type": "execute_result"
    }
   ],
   "source": [
    "car[\"Doors\"].unique()"
   ]
  },
  {
   "cell_type": "code",
   "execution_count": 24,
   "metadata": {},
   "outputs": [
    {
     "data": {
      "text/plain": [
       "array(['4 cyl', '8 cyl', '3 cyl', '6 cyl', '5 cyl', '12 cyl', '0 L',\n",
       "       '2 cyl', '10 cyl'], dtype=object)"
      ]
     },
     "execution_count": 24,
     "metadata": {},
     "output_type": "execute_result"
    }
   ],
   "source": [
    "car[\"CylindersinEngine\"].unique()"
   ]
  },
  {
   "cell_type": "code",
   "execution_count": 25,
   "metadata": {},
   "outputs": [],
   "source": [
    "car = car.dropna(subset=['CylindersinEngine'])\n",
    "# Extract the numeric part and convert to integer\n",
    "# Convert to string, extract numeric part, and convert to integer\n",
    "car['CylindersinEngine'] = car['CylindersinEngine'].astype(str).str.extract(r'(\\d+)').astype(float).astype(int)"
   ]
  },
  {
   "cell_type": "code",
   "execution_count": 26,
   "metadata": {},
   "outputs": [
    {
     "data": {
      "text/plain": [
       "array([ 4,  8,  3,  6,  5, 12,  0,  2, 10])"
      ]
     },
     "execution_count": 26,
     "metadata": {},
     "output_type": "execute_result"
    }
   ],
   "source": [
    "car['CylindersinEngine'].unique()"
   ]
  },
  {
   "cell_type": "code",
   "execution_count": 27,
   "metadata": {},
   "outputs": [
    {
     "data": {
      "text/plain": [
       "array(['White / Black', 'Black / Black', 'Grey / White', 'White / Brown',\n",
       "       'Grey / Black', 'Red / Grey', 'Black / -', 'Blue / -',\n",
       "       'White / Grey', 'Silver / -', 'Blue / Black', 'Silver / Black',\n",
       "       'Silver / Grey', 'Grey / -', 'White / -', 'Black / Tobacco',\n",
       "       'Red / -', 'White / Black Cloth', 'Black / Black Cloth',\n",
       "       'Silver / Black Leather', 'Red / Black', 'Red / Black Cloth',\n",
       "       'Grey / Grey', 'Black / Storm Grey', 'White / Grey  Cloth',\n",
       "       'Green / Black', 'Yellow / -', 'Black / Leather',\n",
       "       'Red / Black  Cloth', 'Orange / Grey', 'Gold / Black',\n",
       "       'Silver / Cloth', 'Grey / Black Leather', 'Black / Grey',\n",
       "       'Brown / Black', '- / -', 'Blue / Grey', 'White / Black Leather',\n",
       "       'Grey / Red', 'Green / -', 'Grey / Beige', 'Brown / Grey',\n",
       "       'Gold / -', 'Blue / Knight Black Synthetic Leather',\n",
       "       'Black / Beige', 'Black / Black Leather', '- / Black', '- / Car',\n",
       "       'Brown / Black Leather', 'Gold / Black Leather',\n",
       "       'Black / Cream Leather', 'Red / Red', 'White / Two Tone Leather',\n",
       "       'Red / Black & Grey Cloth', 'Gold / Grey', 'Yellow / Black',\n",
       "       'White / Beige', 'Brown / -', 'Silver / Grey Cloth', 'Orange / -',\n",
       "       'Silver / Knight Black Synthetic Leather', '- / Black Leather',\n",
       "       'Green / Beige', 'Grey / Black Cloth',\n",
       "       'White / Black & Grey Cloth', 'Blue / Beige',\n",
       "       'Blue / Black Partial Leather', 'White / Grey Cloth',\n",
       "       'Red / Knight Black Synthetic Leather', 'White / Cloth',\n",
       "       'Blue / Leather', 'White / Rapton', 'White / Leather',\n",
       "       'Silver / Leather', 'Silver / Cream', 'Blue / Bc',\n",
       "       'Silver / Knight Black', 'Grey / Red Leather', 'Gold / Cream',\n",
       "       'White / Dakota Leather', 'Brown / Leather', 'White / Red',\n",
       "       'Blue / Black Leather', 'Silver / Leather Nevada Black',\n",
       "       'Yellow / Grey', '- / By7-L', 'Black / Tan Leather',\n",
       "       'Orange / Black', 'White / Cream Leather',\n",
       "       'White / Black Amg Leather', 'Gold / Beige Leather',\n",
       "       'Red / Leather', 'Yellow / Grey  Cloth',\n",
       "       'Black / Black Alcantara & Sensatec & Contrast Stitching',\n",
       "       'Yellow / Black Leather',\n",
       "       'Grey / Black Alcantara & Sensatec & Contrast Stitching',\n",
       "       'Red / Tartan', 'Brown / Grey Cloth', 'Grey / Black/Cream Leather',\n",
       "       'Grey / F Sport Black/Hadori Aluminium', 'Silver / Black Cloth',\n",
       "       'Purple / -', 'Grey / Blue', 'Grey / Grey & Black',\n",
       "       'Silver / Black/Grey', 'White / Black Fabric',\n",
       "       'White / Black/Grey', 'Grey / Classic Grey/Black', 'Grey / Brown',\n",
       "       'Blue / Cloth', 'White / Grege', 'Brown / Beige',\n",
       "       'Silver / Leather Interior With Alcantar', 'White / Dark Grey',\n",
       "       'Grey / Black/Grey', 'Blue / Biege', 'White / Black One Tone',\n",
       "       'Black / Cloth', 'Grey / Black Fabric Sports',\n",
       "       'Black / Grey  Cloth', 'White / Grey Vinyl', 'White / Black-Blue',\n",
       "       'Silver / Black & Grey Cloth', 'White / Car', 'Green / Leather',\n",
       "       'Silver / Black/Beige', 'Grey / Burgundy', 'Blue / Black Fabric',\n",
       "       'White / Leather Interior, Smooth-Finish Leather, Black',\n",
       "       'White / Grey Leather', 'Blue / Grey  Cloth', 'Red / Cloth',\n",
       "       'Black / Black Amg Leather', 'Black / Carbon Black Leatherette',\n",
       "       'White / Sportline', 'Grey / Soul Black', 'Grey / Grey Cloth',\n",
       "       'Grey / Leather', 'Red / Carbon Black Leatherette',\n",
       "       'Silver / Beige', 'White / Dark', 'Black / Red', 'Blue / Car',\n",
       "       'Silver / Grey & Black', 'Black / Carbon Black',\n",
       "       'White / Jet Black', 'Grey / Cloth', 'Grey / Titan Black',\n",
       "       'Grey / Diamond Black', 'Blue / Black/Grey',\n",
       "       'White / Mini Yours Leather Lounge', 'Black / Black/Grey',\n",
       "       'Silver / Sportline', 'Blue / Black Cloth', 'Silver / Grey  Cloth',\n",
       "       'Blue / Blue', 'Black / Leatherette Carbon B',\n",
       "       'Silver / Brown Leather', 'White / Fabric', 'Grey / Sportline',\n",
       "       'Grey / Beige Leather', 'Red / Sportline',\n",
       "       'Black / Dakota Black Leather', 'Grey / Grey Leather',\n",
       "       'Grey / Black Nappa Leather', 'Silver / Black Dakota Leather',\n",
       "       '- / Grey', 'Grey / Cream', 'White / Titan Black',\n",
       "       'Black / Leather Nevada Black', 'Orange / Black Leather',\n",
       "       'Silver / Nexus Dark Grey', 'Orange / Black Yellow',\n",
       "       'Blue / Black & Grey Cloth', 'Blue / Cloth Rapton',\n",
       "       'Black / Knight Black', 'Black / Leather Vernasca Bla',\n",
       "       'Red / Perforated Charcoal Leather', 'White / Rs',\n",
       "       'Red / Burgandy',\n",
       "       'Black / Vernasca Black Leather & Decor Stitching',\n",
       "       'Brown / Biege', 'Black / Black  Cloth', 'Blue / Titanium Black',\n",
       "       'Blue / Knight Black', 'Red / Titanium Black',\n",
       "       'Black / Titan Black', 'White / Knight Black',\n",
       "       'Blue / Charcoal Leather', 'Black / Black Grey',\n",
       "       'White / Petrol Blue', 'White / Nougat Brown', 'White / Charcoal',\n",
       "       'Green / Rs', 'Gold / Biege', 'Grey / Titanium Black Cloth',\n",
       "       'White / Vernasca Black Leather & Decor Stitching',\n",
       "       'Brown / Brown', 'Black / Black / Leather',\n",
       "       \"Grey / Excl.leather 'Nappa' Mocca Excl. S Titching/Leathe\",\n",
       "       'Blue / Blue/Black', 'White / Silver', 'Grey / Black And Cream',\n",
       "       'White / Titanium Black', 'White / Bc', 'Gold / Cream Leather',\n",
       "       'Red / Knight Black', 'Brown / Pistachio Beige',\n",
       "       'White / Walnut Brown Nappa Leather', 'White / Blue/Black',\n",
       "       'Blue / Grey Cloth', 'White / Knight Black Synthetic Leather',\n",
       "       'Grey / Grey  Cloth', 'Grey / Black Leather Sports',\n",
       "       'White / Charcoal Comfort', 'Black / Ebony',\n",
       "       'Silver / Artico Man-Made Leather / Dinamica Microfibre Upholstery Black',\n",
       "       'Silver / Cloth Ray', 'Green / Grey', 'Grey / Asher Gray',\n",
       "       'White / Beige Leather', 'Orange / Black & Grey Cloth',\n",
       "       'Black / Black/Black', 'Silver / Charcoal',\n",
       "       'Grey / Charcoal Leather', 'Black / Beige Leather',\n",
       "       'Grey / R-Design Nubuck', 'Grey / F Sport Black',\n",
       "       'White / Black Leather/Suede', 'Green / Cloth',\n",
       "       'Yellow / Atomic - Black', 'Beige / -',\n",
       "       'Grey / Chroma Brown Leather', 'Blue / Black/Black',\n",
       "       'Black / Mini Yours Leather Lounge Carbon Black',\n",
       "       'Blue / Ebony Leather', 'Grey / Burgundy Leather',\n",
       "       'Silver / 74Fb20', 'Black / Burgundy Leather', 'Burgundy / -',\n",
       "       'Silver / 44Fa20', 'Blue / Burgundy Leather', 'Grey / Ebony C',\n",
       "       'Silver / Red Cloth', 'Silver / 2Lle21', 'Green / Tan',\n",
       "       'Red / Leatherette Carbon B', 'Grey / Brown Leather',\n",
       "       'Grey / 9Tld20', 'Red / 9Tld20', 'White / 2Xfl24',\n",
       "       'Silver / Pale Grey Leather', 'Silver / Black/Black',\n",
       "       'White / 44Fa20', 'Red / 7Efa20',\n",
       "       'Black / Tartan Cloth & Knight Synthetic Leather',\n",
       "       'Silver / 3Sfj20', 'Grey / Paranut Brown/Black Dash 2T',\n",
       "       'White / River Rock Soho Leather', 'Grey / C2Fe20',\n",
       "       'Grey / 2Lle21', 'White / 2Vfa20', 'White / 4Efa20',\n",
       "       'White / 2Zfa20', 'Black / Titanium Black & Crystal Grey',\n",
       "       'Red / 2Xfl24', 'Blue / Silver And Black Silk Nappa',\n",
       "       'White / 40Fa60', 'Grey / 9Meb20', 'Blue / Sportline',\n",
       "       'Blue / Black Current', 'White / Cloth Twist Freedom',\n",
       "       'Silver / Tartan Cloth & Knight Synthetic Leather', 'Red / 74Eb20',\n",
       "       'Grey / 74La20', 'Black / 1Yfj20',\n",
       "       'White / Ebony Seats/Ebony Interior/Ebony Headlining',\n",
       "       'Silver / Black Fabric', 'Black / 2Lle21', 'White / Soul Black',\n",
       "       'Black / Brown', 'Green / Grey  Cloth',\n",
       "       'Black / Extended Partial Leather Interior, Seat Centres In Fabric, Black',\n",
       "       'White / Partial Leather Interior, Black', 'Orange / Black Cloth',\n",
       "       'Grey / Dark', 'Blue / Cream', 'Silver / Dark Grey',\n",
       "       'Grey / Black Fabric', 'Gold / Block', 'White / 88H',\n",
       "       'Silver / Silver', 'Red / Black Microsuede & Leather',\n",
       "       'Blue / Black/Grey Cloth', 'White / Khaki',\n",
       "       'Silver / Ebony Leather', 'Grey / Petrol Blue', 'White / 42Lh22',\n",
       "       'White / 1Yfk20', 'Black / Soul Black',\n",
       "       'Grey / Black Microsuede & Leatherette', 'White / 1Yla20',\n",
       "       'Silver / Black & Light Grey', 'White / Stoff',\n",
       "       'Blue / Titanium Black Vienna Leather', 'White / 3Lfc20',\n",
       "       'Grey / 42Lh22', 'White / Ebony Leather', 'White / 74Fb20',\n",
       "       'White / Black Maztex/Cloth', '- / 40Fa60',\n",
       "       'Grey / Titanium Black Cloth & Leather',\n",
       "       'Blue / Black Oak-Ceramique', 'Brown / Red', 'Blue / Black/Green',\n",
       "       'Yellow / Black/Black', 'Black / Titanium Black', 'Gold / Cloth',\n",
       "       'White / Grey / Leather', 'Grey / Black Lugano Leather',\n",
       "       'Blue / Beige Cloth', 'Grey / Gts Interior Package Crayon',\n",
       "       'Blue / By3', 'White / Titanium Black-Ceramique Cloth',\n",
       "       'Black / Dark Grey',\n",
       "       'Blue / Ebony Windsor Sports Leather/Ebony/Ebony', 'Silver / 24X',\n",
       "       'Red / 3Lfe20', 'White / Black/Cream Leather', 'White / White',\n",
       "       '- / Black Suede & Black Stitching', 'White / 13X',\n",
       "       'White / Sensatec 1', 'White / 2Xlg22', 'Green / Cloth/Leather',\n",
       "       'Brown / Black/Green', 'Black / Grey Leather',\n",
       "       'White / Black Sports Cloth', 'Grey / Cream Leather',\n",
       "       'White / Moon Mist Grey', 'Red / Red Carpet T',\n",
       "       'White / Burgundy Leather', 'Blue / Club Leather Truffle Brown',\n",
       "       'White / Ebony', 'White / No Descripti', 'Blue / 2018/07',\n",
       "       'White / 2021/04', 'White / 2019/07', 'Grey / Black And Blue',\n",
       "       'White / 2019/04', 'White / Titanium Black Vienna Leather',\n",
       "       'Silver / Black Nappa Leather', 'Red / Grey  Cloth',\n",
       "       'Black / Charcoal Comfort', 'Brown / Cloth', 'Grey / Stnd',\n",
       "       'White / Circuit Fabric', 'Silver / Slate', 'Silver / 2019/01',\n",
       "       '- / Grey/Black', 'White / 2022/07',\n",
       "       'Silver / Leather Black , Black', 'Silver / 2018/12',\n",
       "       'Blue / Ebony', 'Grey / Dakota Leather', 'Grey / Ebony',\n",
       "       'Brown / Black Fabric', 'Grey / Fabric Black',\n",
       "       'White / Grey Fabric', 'Black / Burgundy', 'Red / Black Leather',\n",
       "       'White / Grey Trim', 'White / Stnd', 'Grey / 2019/08',\n",
       "       'Blue / Grey Velour', 'Silver / Brown', 'Red / Black Alcantara',\n",
       "       'White / 2019/01', 'White / 2020/11', 'Black / Grey Cloth',\n",
       "       'Grey / Leather Vernasca Design Perforated Cognac',\n",
       "       'White / 2021/06', 'Red / Grey Cloth',\n",
       "       'Grey / Amg Black Nappa Leather', 'Silver / Standardleather',\n",
       "       'Grey / Slate', '- / Leather Loun', 'Grey / Black/Black',\n",
       "       'Grey / 2021/04', 'Silver / Ebony Grained Leather',\n",
       "       'White / Penta Fabric', 'Silver / Shadow Grey', 'Grey / Gray',\n",
       "       'Black / Cream', 'White / Black & Red Leather', 'Blue / 2016/01',\n",
       "       'Orange / Cloth', 'Silver / Cream Leather', 'Blue / 2016/04',\n",
       "       'Black / Fz/Black', 'Black / Ebony P375-H',\n",
       "       'Silver / Artico Black', 'Blue / Charcoal Comfort',\n",
       "       'Grey / 2017/05', 'White / Grey & Black', 'White / Black / Gr',\n",
       "       'White / Cloth/Clot', 'Red / Grey Leather',\n",
       "       'White / Black & Red Cloth', 'Blue / Slate', 'Grey / Charcoal',\n",
       "       'White / Suede', 'Brown / Beige Leather', 'Yellow / Slate',\n",
       "       'White / 2018/10', 'Brown / Ivory', 'Blue / White',\n",
       "       'Grey / 2016/11', 'Yellow / Brown', 'Black / 2022/09',\n",
       "       'White / 2016/08', 'Grey / Titanium Black-Brown-Orange',\n",
       "       'Silver / Nappa Charcoal', 'Red / Black Leather Accented',\n",
       "       'White / Alcantara', 'Yellow / Black/Ikazuchi Yellow Cloth',\n",
       "       'White / Black Artico Dinamica', 'Silver / Black Artico',\n",
       "       'Black / Slate', 'Black / Black Heated Leather',\n",
       "       'Silver / 2019/12', 'Pink / -', 'Silver / Titanium Black Cloth',\n",
       "       'Gold / Black Cloth', 'Gold / Beige', 'White / Partial Leather',\n",
       "       'Grey / Black Artico', 'Gold / Slate', 'Blue / C- Court/B',\n",
       "       'Silver / Black Leather & Red Stitching', 'Blue / Black & Blue',\n",
       "       'Silver / Leather And Suede', 'Grey / Beige  Leather',\n",
       "       'Grey / Black & Cream Leather', 'Grey / 2021/07', 'Grey / 2020/06',\n",
       "       'White / Artico Man-Made Leather Sports Seat Black',\n",
       "       'Silver / Silicon Silver', 'Yellow / Beige',\n",
       "       'Blue / Dark Grey & Blue', 'Red / Brown Leather',\n",
       "       'Black / Ebony Circuit Fabric', 'Orange / Leather',\n",
       "       'Black / Santorini Black', 'Red / Black Nappa Leather',\n",
       "       'Red / Grey Sport Cloth', 'Gold / Leather', 'Red / Champagne',\n",
       "       'White / Dark Grey Leather', 'Grey / 2022/01', 'Yellow / Cloth',\n",
       "       'Black / Black Leather And Orange Trim',\n",
       "       'Grey / Black/Express Red Stitching',\n",
       "       'Black / Black Partial Leather', 'Blue / Tan', 'Blue / Stnd',\n",
       "       'White / Black Dinamica', 'White / Black Artico',\n",
       "       'Grey / Black Leather Accented', 'White / Blue',\n",
       "       'Silver / Nappa Leather Black', 'White / Black  Cloth',\n",
       "       'Blue / Brown', 'White / Art Gray', 'Red / Beige',\n",
       "       'Blue / Black Artico', 'Grey / Black & Gray',\n",
       "       'Red / Nappa Leather', 'Red / White',\n",
       "       'White / Black Exclusive Nappa', 'Brown / White',\n",
       "       'Silver / Leather Dakota Black', 'White / Black/Black',\n",
       "       'Grey / Black  Cloth', 'Grey / Black Sports Leather',\n",
       "       'Red / Grey Cloth Seats', 'Green / Black/Express Red Stitching',\n",
       "       'Silver / F Sport Black/Hadori Aluminium', 'Yellow / Leather',\n",
       "       'Silver / Red', 'Grey / Mmajykl10Jh022022', 'White / 2018/05',\n",
       "       'Gold / Dark Brown F', 'Red / Black/Red', 'Grey / Silver',\n",
       "       'White / 2017/07', 'Grey / 2020/01', 'Black / Black/Grey Leather',\n",
       "       'Red / 2019/08', 'White / Embossed Pattern Black Fabric',\n",
       "       'Grey / Ebony Leathe', 'Silver / Cloth/Leather',\n",
       "       \"White / Bmw Individual Extended Leather Trim 'Merino' Fion\",\n",
       "       'Blue / 2018/09', 'Blue / Beige Leather', 'Bronze / -',\n",
       "       'Blue / Led.dakota M', 'White / 2015/01',\n",
       "       'Red / Recaro-Fs-Alcantara', 'Grey / Parchment',\n",
       "       'Purple / Titanium Black', 'White / 2022/02',\n",
       "       'Silver / Beige  Leather', 'White / 2020/06',\n",
       "       'Orange / Black & Grey Tartan', 'Blue / 2022/07',\n",
       "       'Black / Alcantara(R) Upholst', 'Red / Grey/ Navy',\n",
       "       'Grey / Cream Beige', 'White / 2019/10',\n",
       "       'White / Black Alcantara & Sensatec & Contrast Stitching',\n",
       "       'Grey / Sensafin Dekorgesteppt', 'White / 2018/03',\n",
       "       'White / 2022/05', 'Red / Black Leather/Suede',\n",
       "       'White / Black Grey', '- / Le', 'Silver / Black & Grey Tartan',\n",
       "       'White / Alcantara(R) Upholst', 'Orange / Charcoal Comfort',\n",
       "       'White / Black & Red Cloth & Sensatec', 'Black / 2015/06',\n",
       "       'Blue / 2016/06', 'Blue / Black Sports Cloth',\n",
       "       'White / Black Sports', 'Other / -',\n",
       "       'Silver / Grey & Black Fabric', 'Silver / Black Leather Accented',\n",
       "       'Black / Black Leather   Cloth', 'Grey / R Line',\n",
       "       'White / 2020/02', 'Grey / Hx', 'White / 2019/05',\n",
       "       'Silver / Leather Cross Punch Carbon Black', 'Red / 2020/07',\n",
       "       'Silver / Black  Cloth', 'Black / 2016/09', 'Brown / Bone',\n",
       "       'Yellow / Black Cloth', 'White / Black With Red Trim',\n",
       "       'Red / Leather Dakota Black', 'Red / Part Leather',\n",
       "       'Red / Red & Black Leather', 'Blue / Gt Line Leat',\n",
       "       'Blue / Montana Grey Leather', 'Black / Wk',\n",
       "       'Black / Black Softex', 'Red / Charcoal Comfort', 'Red / Charcoal',\n",
       "       'Black / Lava Black L', 'Blue / Charcoal',\n",
       "       'Black / Graphite & Saturn Black', 'Black / Blue/Black',\n",
       "       'Grey / Leather Dakota Black Exclusive Stitching',\n",
       "       \"White / Full Leather 'Merino' Aragon Brown\",\n",
       "       'Blue / Brown Leather', 'Silver / Penta Fabric',\n",
       "       'Silver / Charcoal Grey Cloth', 'White / 2023/01', 'Blue / Bk',\n",
       "       'Blue / Grey / Leather', 'White / Burgandy', 'Black / Gray',\n",
       "       'Red / Black Leatherette', 'White / Cream Beige',\n",
       "       'Grey / Grey / Leather', 'White / Charcoal Black Cloth',\n",
       "       'Black / Blue / Grey', 'Blue / Leather Black',\n",
       "       'Blue / Ebony Seats/Ebony Interior/Ebony Headlining',\n",
       "       'White / Black Leather Accented', 'Blue / 2017/07',\n",
       "       'Green / Grey & Black', 'Blue / Black  Cloth', 'Grey / 2018/08',\n",
       "       'Black / 2019/09', 'Blue / Ebony Leather 1',\n",
       "       'Red / Silver And Black Silk Nappa', 'Grey / Velour',\n",
       "       'Red / Red Leather', 'White / Grey Cloth Seats',\n",
       "       'Silver / Walnut Brown Nappa Leather', '- / Burgundy',\n",
       "       '- / Grey  Cloth', 'White / Pure White.',\n",
       "       'Blue / Black/Pale Grey/Black Leather', 'White / Red Leather',\n",
       "       'White / Leather Vernasca Design Perforated Cognac',\n",
       "       'White / Black-Black-Rock Gray', 'White / Beige  Leather',\n",
       "       'Silver / Ebony P375-H', 'White / Black / Leather',\n",
       "       'White / 2020/12', 'Silver / Gfrey', 'White / Dark Russet Leather',\n",
       "       'White / =', 'Silver / Grey Leather',\n",
       "       'Black / Grey & Black Fabric', 'Silver / Tan Leather',\n",
       "       'Grey / 2021/05', 'Red / Grey Partial Leather', 'Brown / 20',\n",
       "       'Blue / Ebony Mason', 'White / R-Line Soul Black',\n",
       "       'Red / Black Trim', 'White / White. Grey', 'Blue / Grey7/20',\n",
       "       'Blue / Black R-Line', 'Black / Soul Black/Flint Grey',\n",
       "       'Black / Standard Trim', 'White / Sage Caliber Fabric',\n",
       "       'Grey / Black Sports Cloth', 'Silver / Black & Grey Leather',\n",
       "       'Grey / 2018/03', 'Brown / Chestnut',\n",
       "       'Silver / Embossed Pattern Black Fabric', 'Turquoise / -',\n",
       "       'White / 2021/07', 'White / 2018/09', 'White / 2018/12',\n",
       "       'Brown / Grey Fabric', 'White / Gray', 'Silver / 2018/07',\n",
       "       'Silver / 2021/07', 'White / Black Softex W',\n",
       "       'White / Ebony Interior Trend Mni Perf Ov Milled Pbl',\n",
       "       'White / Dark Grey Cloth', 'White / Standard Trim',\n",
       "       'Blue / Black/Cloth', 'White / Partial Leather Trim',\n",
       "       'Blue / Black/Leather', 'Grey / Windsor Leather',\n",
       "       'Silver / Burgandy', 'Grey / Standard Trim', 'Yellow / Grey Cloth',\n",
       "       'Red / Black Fabric', 'Grey / Black/Leather',\n",
       "       'Grey / Soul Black/Soul Black/Black/Storm Gray',\n",
       "       'Silver / Standard Trim',\n",
       "       'Red / Titanium Black/Titanium Black/Black/Storm Gray',\n",
       "       'Silver / Off Black', 'Black / Black Synthetic Leather',\n",
       "       'Grey / Grey Fabric',\n",
       "       'White / Titanium Black/Titanium Black/Black/Storm Gray',\n",
       "       'White / Null', 'White / Burgundy', 'White / Black And Red',\n",
       "       'Silver / Leather 47807', 'Blue / Camel', 'Grey / Ebony Cloth',\n",
       "       'Yellow / Alcantara-Red/Grey Stitch',\n",
       "       'White / Black/Tan Orange Leather', 'Silver / Blue Dinamica',\n",
       "       'Blue / Natural Beige', 'Silver / Anthracite Grey Leather',\n",
       "       'Silver / Charcoal Comfort', 'Blue / Petrol Blue', 'Cream / -',\n",
       "       'White / Dark Charcoal Leath', '- / Carbon Black Dinamica/Leather',\n",
       "       'Silver / Black Maztex/Cloth', 'Grey / Leather - Off Black',\n",
       "       'Red / Rs', 'White / Black Roof',\n",
       "       'Grey / Walnut Brown Nappa Leather',\n",
       "       'White / Mini Yours Leather Lounge Carbon Black',\n",
       "       'White / Titanium Black & Ceramic', 'Black / Blck', 'Red / -Le02',\n",
       "       'White / Style', 'White / Charcoal Cloth',\n",
       "       'Grey / Charcoal Comfort', 'Black / Red Leather',\n",
       "       'Red / Black Maztex/Cloth', 'Grey / Black Cloth/Vinyl',\n",
       "       'White / Pearl Beige', 'Green / Black Leather',\n",
       "       'Silver / Soul Black', 'Blue / Black Grey', 'Silver / Black Nappa',\n",
       "       'Blue / Nappa Charcoal', 'Grey / Black Fabric W/ Red',\n",
       "       'White / Black Nappa Leather', 'Black / Grey & Black',\n",
       "       'Silver / Leather Charcoal/Charcoal/Blond Headlining',\n",
       "       '- / Soul Black', 'Grey / Obsidian Black',\n",
       "       'Black / Nappa Charcoal', 'Silver / Black & Brown Cloth',\n",
       "       'Black / 2018/11', 'Blue / 2018/02',\n",
       "       'White / Ebony Circuit Fabric',\n",
       "       'White / Black & Driftwood Leather', 'Black / Creme',\n",
       "       'Black / Soul Black & Tornado Red', 'Blue / Soul Black',\n",
       "       'Green / Brown', 'Grey / Dark Russet Leather', 'Blue / Denim',\n",
       "       'Red / Walnut Brown Nappa Leather', 'Red / Cream',\n",
       "       'Red / Blue/Black'], dtype=object)"
      ]
     },
     "execution_count": 27,
     "metadata": {},
     "output_type": "execute_result"
    }
   ],
   "source": [
    "car['ColourExtInt'].unique()"
   ]
  },
  {
   "cell_type": "code",
   "execution_count": 28,
   "metadata": {},
   "outputs": [
    {
     "data": {
      "text/plain": [
       "array(['5595', '16', '8472', ..., '5165', '85525', '31852'], dtype=object)"
      ]
     },
     "execution_count": 28,
     "metadata": {},
     "output_type": "execute_result"
    }
   ],
   "source": [
    "car['Kilometres'].unique()"
   ]
  },
  {
   "cell_type": "code",
   "execution_count": 29,
   "metadata": {},
   "outputs": [],
   "source": [
    "car['Kilometres'] = pd.to_numeric(car['Kilometres'].astype('str').str.extract(r'(\\d+)')[0], errors='coerce')\n",
    "#car['Kilometres'].astype(str).astype(int)\n",
    "car['Kilometres'] = car['Kilometres'].fillna(0).astype(int)"
   ]
  },
  {
   "cell_type": "code",
   "execution_count": 30,
   "metadata": {},
   "outputs": [
    {
     "data": {
      "text/plain": [
       "0          5595\n",
       "1            16\n",
       "2          8472\n",
       "3        136517\n",
       "4          1035\n",
       "          ...  \n",
       "16727     54359\n",
       "16728     32977\n",
       "16731      5165\n",
       "16732     85525\n",
       "16733     31852\n",
       "Name: Kilometres, Length: 14551, dtype: int64"
      ]
     },
     "execution_count": 30,
     "metadata": {},
     "output_type": "execute_result"
    }
   ],
   "source": [
    "car['Kilometres']"
   ]
  },
  {
   "cell_type": "code",
   "execution_count": 31,
   "metadata": {},
   "outputs": [
    {
     "data": {
      "text/plain": [
       "0        8.7 L / 100 km\n",
       "1        6.7 L / 100 km\n",
       "2        6.6 L / 100 km\n",
       "3         11 L / 100 km\n",
       "4          6 L / 100 km\n",
       "              ...      \n",
       "16727    6.9 L / 100 km\n",
       "16728    6.9 L / 100 km\n",
       "16731    6.2 L / 100 km\n",
       "16732    7.2 L / 100 km\n",
       "16733      7 L / 100 km\n",
       "Name: FuelConsumption, Length: 14551, dtype: object"
      ]
     },
     "execution_count": 31,
     "metadata": {},
     "output_type": "execute_result"
    }
   ],
   "source": [
    "\n",
    "car['FuelConsumption']"
   ]
  },
  {
   "cell_type": "code",
   "execution_count": 32,
   "metadata": {},
   "outputs": [],
   "source": [
    "car = car.dropna(subset=['FuelConsumption'])\n",
    "# Extract the numeric part (including decimal) and convert to float\n",
    "car['FuelConsumption'] = car['FuelConsumption'].str.extract(r'(\\d+\\.\\d+)').astype(float)\n"
   ]
  },
  {
   "cell_type": "code",
   "execution_count": 33,
   "metadata": {},
   "outputs": [
    {
     "data": {
      "text/plain": [
       "0        8.7\n",
       "1        6.7\n",
       "2        6.6\n",
       "3        NaN\n",
       "4        NaN\n",
       "        ... \n",
       "16727    6.9\n",
       "16728    6.9\n",
       "16731    6.2\n",
       "16732    7.2\n",
       "16733    NaN\n",
       "Name: FuelConsumption, Length: 14551, dtype: float64"
      ]
     },
     "execution_count": 33,
     "metadata": {},
     "output_type": "execute_result"
    }
   ],
   "source": [
    "car['FuelConsumption']"
   ]
  },
  {
   "cell_type": "code",
   "execution_count": 34,
   "metadata": {},
   "outputs": [
    {
     "data": {
      "text/plain": [
       "0        8.7\n",
       "1        6.7\n",
       "2        6.6\n",
       "6        5.1\n",
       "8        7.1\n",
       "        ... \n",
       "16725    1.7\n",
       "16727    6.9\n",
       "16728    6.9\n",
       "16731    6.2\n",
       "16732    7.2\n",
       "Name: FuelConsumption, Length: 12752, dtype: float64"
      ]
     },
     "execution_count": 34,
     "metadata": {},
     "output_type": "execute_result"
    }
   ],
   "source": [
    "car = car.dropna(subset=['FuelConsumption'])\n",
    "car['FuelConsumption']"
   ]
  },
  {
   "cell_type": "code",
   "execution_count": 35,
   "metadata": {},
   "outputs": [
    {
     "data": {
      "text/plain": [
       "array(['Diesel', 'Premium', 'Hybrid', 'Unleaded', '-', 'LPG'],\n",
       "      dtype=object)"
      ]
     },
     "execution_count": 35,
     "metadata": {},
     "output_type": "execute_result"
    }
   ],
   "source": [
    "car['FuelType'].unique()"
   ]
  },
  {
   "cell_type": "code",
   "execution_count": 36,
   "metadata": {},
   "outputs": [],
   "source": [
    "#car['FuelType'] = pd.to_numeric(car['FuelType'].astype('str').str.extract(r'(\\d+)')[0], errors='coerce')\n",
    "#car['Kilometres'].astype(str).astype(int)\n",
    "#car['FuelType'] = car['FuelType'].fillna(0).astype(str)\n",
    "car = car[car['FuelType'] != '-']"
   ]
  },
  {
   "cell_type": "code",
   "execution_count": null,
   "metadata": {},
   "outputs": [],
   "source": []
  },
  {
   "cell_type": "code",
   "execution_count": 37,
   "metadata": {},
   "outputs": [
    {
     "data": {
      "text/plain": [
       "array(['Diesel', 'Premium', 'Hybrid', 'Unleaded', 'LPG'], dtype=object)"
      ]
     },
     "execution_count": 37,
     "metadata": {},
     "output_type": "execute_result"
    }
   ],
   "source": [
    "car['FuelType'].unique()"
   ]
  },
  {
   "cell_type": "code",
   "execution_count": 38,
   "metadata": {},
   "outputs": [
    {
     "data": {
      "text/plain": [
       "array(['AWD', 'Front', 'Rear', '4WD', 'Other'], dtype=object)"
      ]
     },
     "execution_count": 38,
     "metadata": {},
     "output_type": "execute_result"
    }
   ],
   "source": [
    "car['DriveType'].unique()"
   ]
  },
  {
   "cell_type": "code",
   "execution_count": 39,
   "metadata": {},
   "outputs": [
    {
     "data": {
      "text/plain": [
       "array(['Automatic', 'Manual', '-'], dtype=object)"
      ]
     },
     "execution_count": 39,
     "metadata": {},
     "output_type": "execute_result"
    }
   ],
   "source": [
    "car['Transmission'].unique()"
   ]
  },
  {
   "cell_type": "code",
   "execution_count": 241,
   "metadata": {},
   "outputs": [],
   "source": [
    "car = car[car['Transmission'] != '-']"
   ]
  },
  {
   "cell_type": "code",
   "execution_count": 242,
   "metadata": {},
   "outputs": [
    {
     "data": {
      "text/plain": [
       "array(['Automatic', 'Manual'], dtype=object)"
      ]
     },
     "execution_count": 242,
     "metadata": {},
     "output_type": "execute_result"
    }
   ],
   "source": [
    "car['Transmission'].unique()"
   ]
  },
  {
   "cell_type": "code",
   "execution_count": 40,
   "metadata": {},
   "outputs": [
    {
     "data": {
      "text/plain": [
       "array(['4 cyl, 2.2 L', '4 cyl, 1.5 L', '4 cyl, 2 L', '4 cyl, 1.3 L',\n",
       "       '4 cyl, 2.7 L', '4 cyl, 1.4 L', '3 cyl, 1 L', '4 cyl, 2.4 L',\n",
       "       '4 cyl, 1.6 L', '6 cyl, 3 L', '4 cyl, 2.5 L', '3 cyl, 1.2 L',\n",
       "       '6 cyl, 2.7 L', '4 cyl, 1.8 L', '6 cyl, 4 L', '6 cyl, 3.5 L',\n",
       "       '8 cyl, 6 L', '5 cyl, 3.2 L', '4 cyl, 2.3 L', '8 cyl, 4.1 L',\n",
       "       '6 cyl, 3.6 L', '4 cyl, 1.2 L', '8 cyl, 4.8 L', '6 cyl, 3.8 L',\n",
       "       '4 cyl, 3 L', '5 cyl, 2.5 L', '6 cyl, 3.3 L', '3 cyl, 1.5 L',\n",
       "       '4 cyl, 2.8 L', '8 cyl, 4.5 L', '12 cyl, 6.6 L', '4 cyl, 2.1 L',\n",
       "       '8 cyl, 4.4 L', '8 cyl, 5 L', '8 cyl, 4.2 L', '3 cyl, 1.6 L',\n",
       "       '4 cyl, 1.9 L', '6 cyl, 2.5 L', '8 cyl, 4 L', '4 cyl, 3.2 L',\n",
       "       '2 cyl, 0.9 L', '8 cyl, 6.2 L', '8 cyl, 4.7 L', '6 cyl, 3.2 L',\n",
       "       '8 cyl, 5.7 L', '8 cyl, 5.5 L', '4 cyl, 1.7 L', '5 cyl, 2.4 L',\n",
       "       '8 cyl, 4.6 L', '6 cyl, 2.9 L', '6 cyl, 3.7 L', '3 cyl, 1.3 L',\n",
       "       '6 cyl, 2.2 L', '8 cyl, 5.6 L', '8 cyl, 3.6 L', '8 cyl, 3 L',\n",
       "       '6 cyl, 4.2 L', '8 cyl, 4.9 L', '8 cyl, 3.8 L', '12 cyl, 6 L',\n",
       "       '2 cyl, 1.3 L', '8 cyl, 4.3 L', '6 cyl, 3.1 L', '12 cyl, 6.3 L',\n",
       "       '4 cyl, 2.9 L', '10 cyl, 5 L', '4 cyl, 2.6 L', '8 cyl, 5.4 L',\n",
       "       '6 cyl, 4.8 L', '6 cyl, 3.4 L', '8 cyl, 3.9 L', '12 cyl, 6.5 L',\n",
       "       '12 cyl, 5.7 L', '12 cyl, 5.9 L', '6 cyl, 2.8 L', '5 cyl, 2 L',\n",
       "       '5 cyl, 2.7 L', '3 cyl, 0.7 L', '10 cyl, 5.2 L', '6 cyl, 2.6 L'],\n",
       "      dtype=object)"
      ]
     },
     "execution_count": 40,
     "metadata": {},
     "output_type": "execute_result"
    }
   ],
   "source": [
    "car['Engine'].unique()"
   ]
  },
  {
   "cell_type": "code",
   "execution_count": 41,
   "metadata": {},
   "outputs": [
    {
     "data": {
      "text/plain": [
       "array([2.2, 1.5, nan, 1.3, 2.7, 1.4, 2.4, 1.6, 2.5, 1.2, 1.8, 3.5, 3.2,\n",
       "       2.3, 4.1, 3.6, 4.8, 3.8, 3.3, 2.8, 4.5, 6.6, 2.1, 4.4, 4.2, 1.9,\n",
       "       0.9, 6.2, 4.7, 5.7, 5.5, 1.7, 4.6, 2.9, 3.7, 5.6, 4.9, 4.3, 3.1,\n",
       "       6.3, 2.6, 5.4, 3.4, 3.9, 6.5, 5.9, 0.7, 5.2])"
      ]
     },
     "execution_count": 41,
     "metadata": {},
     "output_type": "execute_result"
    }
   ],
   "source": [
    "car['Engine'] = car['Engine'].str.extract(r'(\\d+\\.\\d+)').astype(float)\n",
    "car['Engine'].unique()"
   ]
  },
  {
   "cell_type": "code",
   "execution_count": 42,
   "metadata": {},
   "outputs": [
    {
     "data": {
      "text/plain": [
       "array([2.2, 1.5, 1.3, 2.7, 1.4, 2.4, 1.6, 2.5, 1.2, 1.8, 3.5, 3.2, 2.3,\n",
       "       4.1, 3.6, 4.8, 3.8, 3.3, 2.8, 4.5, 6.6, 2.1, 4.4, 4.2, 1.9, 0.9,\n",
       "       6.2, 4.7, 5.7, 5.5, 1.7, 4.6, 2.9, 3.7, 5.6, 4.9, 4.3, 3.1, 6.3,\n",
       "       2.6, 5.4, 3.4, 3.9, 6.5, 5.9, 0.7, 5.2])"
      ]
     },
     "execution_count": 42,
     "metadata": {},
     "output_type": "execute_result"
    }
   ],
   "source": [
    "car = car.dropna(subset=['Engine'])\n",
    "car['Engine'].unique()"
   ]
  },
  {
   "cell_type": "markdown",
   "metadata": {},
   "source": []
  },
  {
   "cell_type": "code",
   "execution_count": 43,
   "metadata": {},
   "outputs": [
    {
     "data": {
      "text/plain": [
       "array(['White / Black', 'Black / Black', 'Blue / -', 'White / Grey',\n",
       "       'Blue / Black', 'Silver / Black', 'Black / -', 'Silver / Grey',\n",
       "       'Grey / -', 'Silver / -', 'White / -', 'Black / Tobacco',\n",
       "       'Red / -', 'White / Black Cloth', 'Black / Black Cloth',\n",
       "       'Grey / Black', 'Silver / Black Leather', 'Green / Black',\n",
       "       'Black / Leather', 'Yellow / -', 'Gold / Black', 'Silver / Cloth',\n",
       "       'Grey / Grey', 'Black / Grey', 'Grey / Black Leather',\n",
       "       'Red / Black', 'Grey / Red', 'Green / -', 'Brown / Grey',\n",
       "       'Gold / -', '- / -', 'Red / Grey', 'Brown / Black',\n",
       "       'Blue / Knight Black Synthetic Leather', 'Black / Black Leather',\n",
       "       '- / Black', 'Red / Black  Cloth', '- / Car',\n",
       "       'White / Grey  Cloth', 'White / Two Tone Leather', 'Blue / Grey',\n",
       "       'Gold / Grey', 'Yellow / Black', 'Brown / -',\n",
       "       'Silver / Grey Cloth', '- / Black Leather',\n",
       "       'White / Black & Grey Cloth', 'Blue / Beige', 'White / Cloth',\n",
       "       'Red / Black Cloth', 'White / Black Leather', 'Blue / Leather',\n",
       "       'White / Leather', 'Silver / Leather', 'Silver / Cream',\n",
       "       'Gold / Cream', 'White / Grey Cloth', 'White / Dakota Leather',\n",
       "       'Brown / Leather', 'White / Red', 'Blue / Black Leather',\n",
       "       'Yellow / Grey', '- / By7-L', 'Black / Tan Leather',\n",
       "       'White / Cream Leather', 'Black / Beige', 'Yellow / Grey  Cloth',\n",
       "       'Yellow / Black Leather', 'Orange / -', 'Red / Tartan',\n",
       "       'Brown / Grey Cloth', 'Grey / Black/Cream Leather',\n",
       "       'Grey / F Sport Black/Hadori Aluminium', 'Silver / Black Cloth',\n",
       "       'Purple / -', 'Grey / Grey & Black', 'White / Black Fabric',\n",
       "       'Blue / Cloth', 'White / Grege', 'White / Dark Grey',\n",
       "       'Orange / Black', 'Black / Cloth', 'Grey / Black Fabric Sports',\n",
       "       'Black / Grey  Cloth', 'Silver / Black & Grey Cloth',\n",
       "       'Green / Leather', 'Silver / Black/Beige', 'Grey / Burgundy',\n",
       "       'White / Grey Leather', 'Blue / Grey  Cloth', 'Grey / Grey Cloth',\n",
       "       'Silver / Beige', 'Grey / Cloth', 'Blue / Black Cloth',\n",
       "       'Silver / Grey  Cloth', 'Blue / Blue', 'Red / Cloth',\n",
       "       'White / Fabric', 'Grey / Black/Grey', '- / Grey', 'Grey / Cream',\n",
       "       'White / Car', 'Orange / Black Leather',\n",
       "       'Silver / Nexus Dark Grey', 'Black / Red', 'Grey / Brown',\n",
       "       'Black / Knight Black', 'Brown / Biege', 'Black / Black  Cloth',\n",
       "       'Blue / Titanium Black', 'White / Knight Black',\n",
       "       'Black / Black / Leather',\n",
       "       \"Grey / Excl.leather 'Nappa' Mocca Excl. S Titching/Leathe\",\n",
       "       'Blue / Blue/Black', 'Red / Leather', 'White / Bc',\n",
       "       'White / Walnut Brown Nappa Leather', 'White / Blue/Black',\n",
       "       'Grey / Black Cloth', 'Silver / Knight Black',\n",
       "       'Red / Knight Black',\n",
       "       'Silver / Artico Man-Made Leather / Dinamica Microfibre Upholstery Black',\n",
       "       'Green / Grey', 'White / Beige Leather', 'Grey / Leather',\n",
       "       'Blue / Knight Black', 'Orange / Grey',\n",
       "       'White / Black Leather/Suede', 'Green / Cloth',\n",
       "       'Yellow / Atomic - Black', 'Beige / -', 'Blue / Ebony Leather',\n",
       "       'Grey / Burgundy Leather', 'Black / Burgundy Leather',\n",
       "       'Burgundy / -', 'Silver / 44Fa20', 'Blue / Burgundy Leather',\n",
       "       'Silver / Red Cloth', 'Silver / 2Lle21', 'Green / Tan',\n",
       "       'Red / Leatherette Carbon B', 'Grey / 9Tld20', 'Red / 9Tld20',\n",
       "       'White / 2Xfl24', 'White / 44Fa20', 'Red / 7Efa20',\n",
       "       'Black / Tartan Cloth & Knight Synthetic Leather',\n",
       "       'Silver / 3Sfj20', 'White / River Rock Soho Leather',\n",
       "       'Grey / C2Fe20', 'Grey / 2Lle21', 'White / 2Vfa20',\n",
       "       'White / 4Efa20', 'White / Silver', 'White / 2Zfa20',\n",
       "       'Red / 2Xfl24', 'White / 40Fa60', 'Grey / 9Meb20',\n",
       "       'White / Sportline', 'Grey / Red Leather',\n",
       "       'White / Cloth Twist Freedom',\n",
       "       'Silver / Tartan Cloth & Knight Synthetic Leather', 'Red / 74Eb20',\n",
       "       'Grey / 74La20', 'Black / 1Yfj20', 'Black / 2Lle21',\n",
       "       'Black / Brown', 'Green / Grey  Cloth', 'Orange / Black Cloth',\n",
       "       'Blue / Black & Grey Cloth', 'Silver / Dark Grey',\n",
       "       'Grey / Black Fabric', 'Gold / Block', 'White / 88H',\n",
       "       'Silver / Silver', 'Silver / Black Fabric', 'White / Charcoal',\n",
       "       'Red / Black Microsuede & Leather', 'White / Khaki',\n",
       "       'White / 1Yfk20', 'Grey / Black Microsuede & Leatherette',\n",
       "       'White / 1Yla20', 'Grey / Grey Leather', 'White / 3Lfc20',\n",
       "       'White / Ebony Leather', 'White / 74Fb20',\n",
       "       'White / Black Maztex/Cloth', '- / 40Fa60',\n",
       "       'Blue / Black Oak-Ceramique', 'Blue / Black/Green',\n",
       "       'Green / Beige', 'Gold / Cloth', 'Blue / Beige Cloth',\n",
       "       'Grey / Gts Interior Package Crayon', 'Blue / By3',\n",
       "       'Black / Dark Grey', 'Silver / 24X', 'Red / 3Lfe20',\n",
       "       'White / Black/Cream Leather', 'White / White', 'White / 13X',\n",
       "       'White / Sensatec 1', 'White / 2Xlg22', 'Brown / Black/Green',\n",
       "       'White / Black Sports Cloth', 'Orange / Black & Grey Cloth',\n",
       "       'White / Burgundy Leather', 'Blue / Club Leather Truffle Brown',\n",
       "       'White / No Descripti', 'Blue / 2018/07', 'White / 2021/04',\n",
       "       'White / Titanium Black', 'Silver / Black Nappa Leather',\n",
       "       'Red / Grey  Cloth', 'Brown / Cloth', 'Grey / Stnd',\n",
       "       'White / Circuit Fabric', '- / Grey/Black', 'Grey / Grey  Cloth',\n",
       "       'White / 2022/07', 'Brown / Black Fabric', 'Grey / Fabric Black',\n",
       "       'White / Grey Fabric', 'Black / Burgundy', 'Red / Black Leather',\n",
       "       'White / Grey Trim', 'Grey / 2019/08', 'Blue / Grey Velour',\n",
       "       'Silver / Brown', 'Black / Grey Cloth', 'White / 2021/06',\n",
       "       'Red / Grey Cloth', 'Grey / Gray', 'Blue / 2016/04',\n",
       "       'Black / Fz/Black', 'Black / Cream', 'Black / Ebony P375-H',\n",
       "       'Blue / Grey Cloth', 'Silver / Slate', 'Blue / Slate',\n",
       "       'Orange / Cloth', 'Brown / Beige Leather', 'Yellow / Slate',\n",
       "       'White / 2018/10', 'Blue / White', 'Yellow / Brown',\n",
       "       'White / Stnd', 'Black / 2022/09', 'White / Beige',\n",
       "       'Red / Black Leather Accented', 'White / Black Artico Dinamica',\n",
       "       'Black / Slate', 'Pink / -', 'Gold / Black Cloth', 'Gold / Beige',\n",
       "       'Gold / Slate', 'Grey / Beige  Leather',\n",
       "       'Grey / Black & Cream Leather', 'Grey / 2021/07',\n",
       "       'White / Artico Man-Made Leather Sports Seat Black',\n",
       "       'Blue / Dark Grey & Blue', 'Red / Brown Leather',\n",
       "       'Black / Ebony Circuit Fabric', 'Blue / Black Fabric',\n",
       "       'Red / Black Nappa Leather', 'Gold / Leather', 'Yellow / Cloth',\n",
       "       'Black / Black Leather And Orange Trim',\n",
       "       'Black / Black Partial Leather', 'Blue / Stnd',\n",
       "       'White / Black Dinamica', 'Grey / Black Leather Accented',\n",
       "       'Grey / White', 'Blue / Brown', 'White / Art Gray', 'Red / Beige',\n",
       "       'Grey / Black & Gray', 'Grey / Black  Cloth',\n",
       "       'Green / Black/Express Red Stitching',\n",
       "       'Silver / F Sport Black/Hadori Aluminium', 'Black / Grey Leather',\n",
       "       'Silver / Red', 'Grey / Mmajykl10Jh022022', 'White / 2018/05',\n",
       "       'Red / Black/Red', 'White / 2017/07', 'Red / 2019/08',\n",
       "       'Silver / Cloth/Leather', 'Bronze / -', 'Orange / Leather',\n",
       "       'White / 2015/01', 'White / 2022/02', 'White / Black  Cloth',\n",
       "       'Blue / 2022/07', 'Grey / Beige', 'White / 2019/10',\n",
       "       'Grey / Sensafin Dekorgesteppt', 'Silver / Black & Grey Tartan',\n",
       "       'Brown / Beige', 'Black / 2015/06', 'Blue / 2016/06',\n",
       "       'Blue / Black Sports Cloth', 'White / Black Sports',\n",
       "       'Silver / Black Leather Accented', 'Grey / Hx', 'White / 2019/05',\n",
       "       'Red / 2020/07', 'Silver / Black  Cloth', 'Brown / Bone',\n",
       "       'Yellow / Black Cloth', 'Black / Titanium Black',\n",
       "       'Blue / Gt Line Leat', 'Black / Wk', 'Black / Black Softex',\n",
       "       'Red / Charcoal', 'Black / Blue/Black',\n",
       "       \"White / Full Leather 'Merino' Aragon Brown\",\n",
       "       'Silver / Penta Fabric', 'Silver / Charcoal Grey Cloth',\n",
       "       'White / 2023/01', 'White / Burgandy', 'Red / Grey Sport Cloth',\n",
       "       'Black / Gray', 'Red / Black Leatherette', 'White / Cream Beige',\n",
       "       'Grey / Grey / Leather', 'Black / Blue / Grey',\n",
       "       'Blue / Leather Black', 'White / Black Leather Accented',\n",
       "       'White / 2022/05', 'Gold / Black Leather', 'Green / Grey & Black',\n",
       "       'Blue / Black  Cloth', 'Grey / Black Nappa Leather',\n",
       "       'Grey / 2018/08', 'Black / 2019/09',\n",
       "       'Red / Silver And Black Silk Nappa', 'Black / Black/Grey',\n",
       "       'Red / Red Leather', 'White / Grey Cloth Seats',\n",
       "       'Silver / Walnut Brown Nappa Leather', '- / Burgundy',\n",
       "       'Silver / Gfrey', 'Black / Ebony', 'White / Dark Russet Leather',\n",
       "       'Black / Grey & Black Fabric', 'White / =',\n",
       "       'Red / Grey Partial Leather', 'Brown / 20', 'White / White. Grey',\n",
       "       'Blue / Grey7/20', 'Silver / Grey Leather', 'Grey / Blue',\n",
       "       'Brown / Chestnut', 'Silver / Embossed Pattern Black Fabric',\n",
       "       'White / 2021/07', 'White / 2018/09', 'Brown / Grey Fabric',\n",
       "       'Silver / 2018/07', 'White / Black Softex W',\n",
       "       'White / Dark Grey Cloth', 'White / Partial Leather Trim',\n",
       "       'Silver / Burgandy', 'Yellow / Grey Cloth', 'Grey / Standard Trim',\n",
       "       'White / Standard Trim', 'Red / Black Fabric',\n",
       "       'Grey / Soul Black/Soul Black/Black/Storm Gray',\n",
       "       'Silver / Off Black', 'Silver / Standard Trim',\n",
       "       'Black / Black Synthetic Leather', 'Grey / Black Sports Cloth',\n",
       "       'Grey / Grey Fabric',\n",
       "       'White / Titanium Black/Titanium Black/Black/Storm Gray',\n",
       "       'White / Null', 'White / Burgundy', 'Silver / Leather 47807',\n",
       "       'White / Black/Tan Orange Leather', 'Blue / Natural Beige',\n",
       "       'Silver / Black Maztex/Cloth', 'Grey / Leather - Off Black',\n",
       "       'Grey / Walnut Brown Nappa Leather', 'Black / Blck',\n",
       "       'Grey / Black/Black', 'White / Charcoal Cloth',\n",
       "       'Black / Red Leather', 'Red / Black Maztex/Cloth',\n",
       "       'Grey / Black Cloth/Vinyl', 'White / Pearl Beige',\n",
       "       'Green / Black Leather', 'Grey / Black Fabric W/ Red',\n",
       "       'White / Black Nappa Leather', 'Black / Cream Leather',\n",
       "       'Black / 2018/11', 'White / Ebony Circuit Fabric',\n",
       "       'Black / Graphite & Saturn Black', 'Black / Creme',\n",
       "       'Green / Brown', 'Red / Red', 'Grey / Dark Russet Leather',\n",
       "       'Blue / Denim', 'Red / Walnut Brown Nappa Leather', 'Red / Cream',\n",
       "       'Red / Blue/Black'], dtype=object)"
      ]
     },
     "execution_count": 43,
     "metadata": {},
     "output_type": "execute_result"
    }
   ],
   "source": [
    "car['ColourExtInt'].unique()"
   ]
  },
  {
   "cell_type": "markdown",
   "metadata": {},
   "source": [
    "#Reset Index"
   ]
  },
  {
   "cell_type": "code",
   "execution_count": 44,
   "metadata": {},
   "outputs": [],
   "source": [
    "car=car.reset_index(drop=True)"
   ]
  },
  {
   "cell_type": "code",
   "execution_count": 45,
   "metadata": {},
   "outputs": [
    {
     "data": {
      "text/plain": [
       "(7708, 19)"
      ]
     },
     "execution_count": 45,
     "metadata": {},
     "output_type": "execute_result"
    }
   ],
   "source": [
    "car.shape"
   ]
  },
  {
   "cell_type": "markdown",
   "metadata": {},
   "source": [
    "Cleaned Data"
   ]
  },
  {
   "cell_type": "code",
   "execution_count": 46,
   "metadata": {},
   "outputs": [],
   "source": [
    "car.to_csv('../Data/Cleaned_Analysis_Car_data.csv')"
   ]
  },
  {
   "cell_type": "code",
   "execution_count": 47,
   "metadata": {},
   "outputs": [
    {
     "name": "stdout",
     "output_type": "stream",
     "text": [
      "<class 'pandas.core.frame.DataFrame'>\n",
      "RangeIndex: 7708 entries, 0 to 7707\n",
      "Data columns (total 19 columns):\n",
      " #   Column             Non-Null Count  Dtype  \n",
      "---  ------             --------------  -----  \n",
      " 0   Brand              7708 non-null   object \n",
      " 1   Year               7708 non-null   int64  \n",
      " 2   Model              7708 non-null   object \n",
      " 3   Car/Suv            7708 non-null   object \n",
      " 4   Title              7708 non-null   object \n",
      " 5   UsedOrNew          7708 non-null   object \n",
      " 6   Transmission       7708 non-null   object \n",
      " 7   Engine             7708 non-null   float64\n",
      " 8   DriveType          7708 non-null   object \n",
      " 9   FuelType           7708 non-null   object \n",
      " 10  FuelConsumption    7708 non-null   float64\n",
      " 11  Kilometres         7708 non-null   int64  \n",
      " 12  ColourExtInt       7708 non-null   object \n",
      " 13  Location           7708 non-null   object \n",
      " 14  CylindersinEngine  7708 non-null   int64  \n",
      " 15  BodyType           7708 non-null   object \n",
      " 16  Doors              7708 non-null   int64  \n",
      " 17  Seats              7708 non-null   int64  \n",
      " 18  Price              7708 non-null   int64  \n",
      "dtypes: float64(2), int64(6), object(11)\n",
      "memory usage: 1.1+ MB\n"
     ]
    }
   ],
   "source": [
    "car.info()"
   ]
  },
  {
   "cell_type": "code",
   "execution_count": 48,
   "metadata": {},
   "outputs": [
    {
     "data": {
      "text/html": [
       "<div>\n",
       "<style scoped>\n",
       "    .dataframe tbody tr th:only-of-type {\n",
       "        vertical-align: middle;\n",
       "    }\n",
       "\n",
       "    .dataframe tbody tr th {\n",
       "        vertical-align: top;\n",
       "    }\n",
       "\n",
       "    .dataframe thead th {\n",
       "        text-align: right;\n",
       "    }\n",
       "</style>\n",
       "<table border=\"1\" class=\"dataframe\">\n",
       "  <thead>\n",
       "    <tr style=\"text-align: right;\">\n",
       "      <th></th>\n",
       "      <th>Brand</th>\n",
       "      <th>Year</th>\n",
       "      <th>Model</th>\n",
       "      <th>Car/Suv</th>\n",
       "      <th>Title</th>\n",
       "      <th>UsedOrNew</th>\n",
       "      <th>Transmission</th>\n",
       "      <th>Engine</th>\n",
       "      <th>DriveType</th>\n",
       "      <th>FuelType</th>\n",
       "      <th>FuelConsumption</th>\n",
       "      <th>Kilometres</th>\n",
       "      <th>ColourExtInt</th>\n",
       "      <th>Location</th>\n",
       "      <th>CylindersinEngine</th>\n",
       "      <th>BodyType</th>\n",
       "      <th>Doors</th>\n",
       "      <th>Seats</th>\n",
       "      <th>Price</th>\n",
       "    </tr>\n",
       "  </thead>\n",
       "  <tbody>\n",
       "    <tr>\n",
       "      <th>count</th>\n",
       "      <td>7708</td>\n",
       "      <td>7708.000000</td>\n",
       "      <td>7708</td>\n",
       "      <td>7708</td>\n",
       "      <td>7708</td>\n",
       "      <td>7708</td>\n",
       "      <td>7708</td>\n",
       "      <td>7708.000000</td>\n",
       "      <td>7708</td>\n",
       "      <td>7708</td>\n",
       "      <td>7708.000000</td>\n",
       "      <td>7708.000000</td>\n",
       "      <td>7708</td>\n",
       "      <td>7708</td>\n",
       "      <td>7708.000000</td>\n",
       "      <td>7708</td>\n",
       "      <td>7708.000000</td>\n",
       "      <td>7708.000000</td>\n",
       "      <td>7708.00000</td>\n",
       "    </tr>\n",
       "    <tr>\n",
       "      <th>unique</th>\n",
       "      <td>54</td>\n",
       "      <td>NaN</td>\n",
       "      <td>388</td>\n",
       "      <td>166</td>\n",
       "      <td>3684</td>\n",
       "      <td>3</td>\n",
       "      <td>3</td>\n",
       "      <td>NaN</td>\n",
       "      <td>4</td>\n",
       "      <td>5</td>\n",
       "      <td>NaN</td>\n",
       "      <td>NaN</td>\n",
       "      <td>404</td>\n",
       "      <td>545</td>\n",
       "      <td>NaN</td>\n",
       "      <td>10</td>\n",
       "      <td>NaN</td>\n",
       "      <td>NaN</td>\n",
       "      <td>NaN</td>\n",
       "    </tr>\n",
       "    <tr>\n",
       "      <th>top</th>\n",
       "      <td>Toyota</td>\n",
       "      <td>NaN</td>\n",
       "      <td>Corolla</td>\n",
       "      <td>SUV</td>\n",
       "      <td>2021 Toyota Corolla Ascent Sport Hybrid</td>\n",
       "      <td>USED</td>\n",
       "      <td>Automatic</td>\n",
       "      <td>NaN</td>\n",
       "      <td>Front</td>\n",
       "      <td>Unleaded</td>\n",
       "      <td>NaN</td>\n",
       "      <td>NaN</td>\n",
       "      <td>White / -</td>\n",
       "      <td>Minchinbury, NSW</td>\n",
       "      <td>NaN</td>\n",
       "      <td>SUV</td>\n",
       "      <td>NaN</td>\n",
       "      <td>NaN</td>\n",
       "      <td>NaN</td>\n",
       "    </tr>\n",
       "    <tr>\n",
       "      <th>freq</th>\n",
       "      <td>1603</td>\n",
       "      <td>NaN</td>\n",
       "      <td>275</td>\n",
       "      <td>2867</td>\n",
       "      <td>28</td>\n",
       "      <td>7264</td>\n",
       "      <td>6709</td>\n",
       "      <td>NaN</td>\n",
       "      <td>3751</td>\n",
       "      <td>3680</td>\n",
       "      <td>NaN</td>\n",
       "      <td>NaN</td>\n",
       "      <td>1399</td>\n",
       "      <td>300</td>\n",
       "      <td>NaN</td>\n",
       "      <td>3186</td>\n",
       "      <td>NaN</td>\n",
       "      <td>NaN</td>\n",
       "      <td>NaN</td>\n",
       "    </tr>\n",
       "    <tr>\n",
       "      <th>mean</th>\n",
       "      <td>NaN</td>\n",
       "      <td>2016.271147</td>\n",
       "      <td>NaN</td>\n",
       "      <td>NaN</td>\n",
       "      <td>NaN</td>\n",
       "      <td>NaN</td>\n",
       "      <td>NaN</td>\n",
       "      <td>2.394707</td>\n",
       "      <td>NaN</td>\n",
       "      <td>NaN</td>\n",
       "      <td>7.841788</td>\n",
       "      <td>99835.223145</td>\n",
       "      <td>NaN</td>\n",
       "      <td>NaN</td>\n",
       "      <td>4.432019</td>\n",
       "      <td>NaN</td>\n",
       "      <td>4.061495</td>\n",
       "      <td>5.176570</td>\n",
       "      <td>32975.11274</td>\n",
       "    </tr>\n",
       "    <tr>\n",
       "      <th>std</th>\n",
       "      <td>NaN</td>\n",
       "      <td>4.633629</td>\n",
       "      <td>NaN</td>\n",
       "      <td>NaN</td>\n",
       "      <td>NaN</td>\n",
       "      <td>NaN</td>\n",
       "      <td>NaN</td>\n",
       "      <td>0.873218</td>\n",
       "      <td>NaN</td>\n",
       "      <td>NaN</td>\n",
       "      <td>2.032397</td>\n",
       "      <td>74444.813148</td>\n",
       "      <td>NaN</td>\n",
       "      <td>NaN</td>\n",
       "      <td>1.026026</td>\n",
       "      <td>NaN</td>\n",
       "      <td>0.668563</td>\n",
       "      <td>1.139127</td>\n",
       "      <td>27049.12838</td>\n",
       "    </tr>\n",
       "    <tr>\n",
       "      <th>min</th>\n",
       "      <td>NaN</td>\n",
       "      <td>1989.000000</td>\n",
       "      <td>NaN</td>\n",
       "      <td>NaN</td>\n",
       "      <td>NaN</td>\n",
       "      <td>NaN</td>\n",
       "      <td>NaN</td>\n",
       "      <td>0.700000</td>\n",
       "      <td>NaN</td>\n",
       "      <td>NaN</td>\n",
       "      <td>1.700000</td>\n",
       "      <td>0.000000</td>\n",
       "      <td>NaN</td>\n",
       "      <td>NaN</td>\n",
       "      <td>2.000000</td>\n",
       "      <td>NaN</td>\n",
       "      <td>2.000000</td>\n",
       "      <td>2.000000</td>\n",
       "      <td>900.00000</td>\n",
       "    </tr>\n",
       "    <tr>\n",
       "      <th>25%</th>\n",
       "      <td>NaN</td>\n",
       "      <td>2013.000000</td>\n",
       "      <td>NaN</td>\n",
       "      <td>NaN</td>\n",
       "      <td>NaN</td>\n",
       "      <td>NaN</td>\n",
       "      <td>NaN</td>\n",
       "      <td>1.600000</td>\n",
       "      <td>NaN</td>\n",
       "      <td>NaN</td>\n",
       "      <td>6.500000</td>\n",
       "      <td>42650.000000</td>\n",
       "      <td>NaN</td>\n",
       "      <td>NaN</td>\n",
       "      <td>4.000000</td>\n",
       "      <td>NaN</td>\n",
       "      <td>4.000000</td>\n",
       "      <td>5.000000</td>\n",
       "      <td>17886.00000</td>\n",
       "    </tr>\n",
       "    <tr>\n",
       "      <th>50%</th>\n",
       "      <td>NaN</td>\n",
       "      <td>2017.000000</td>\n",
       "      <td>NaN</td>\n",
       "      <td>NaN</td>\n",
       "      <td>NaN</td>\n",
       "      <td>NaN</td>\n",
       "      <td>NaN</td>\n",
       "      <td>2.400000</td>\n",
       "      <td>NaN</td>\n",
       "      <td>NaN</td>\n",
       "      <td>7.700000</td>\n",
       "      <td>87343.000000</td>\n",
       "      <td>NaN</td>\n",
       "      <td>NaN</td>\n",
       "      <td>4.000000</td>\n",
       "      <td>NaN</td>\n",
       "      <td>4.000000</td>\n",
       "      <td>5.000000</td>\n",
       "      <td>27990.00000</td>\n",
       "    </tr>\n",
       "    <tr>\n",
       "      <th>75%</th>\n",
       "      <td>NaN</td>\n",
       "      <td>2020.000000</td>\n",
       "      <td>NaN</td>\n",
       "      <td>NaN</td>\n",
       "      <td>NaN</td>\n",
       "      <td>NaN</td>\n",
       "      <td>NaN</td>\n",
       "      <td>2.800000</td>\n",
       "      <td>NaN</td>\n",
       "      <td>NaN</td>\n",
       "      <td>8.900000</td>\n",
       "      <td>147286.500000</td>\n",
       "      <td>NaN</td>\n",
       "      <td>NaN</td>\n",
       "      <td>4.000000</td>\n",
       "      <td>NaN</td>\n",
       "      <td>4.000000</td>\n",
       "      <td>5.000000</td>\n",
       "      <td>39990.00000</td>\n",
       "    </tr>\n",
       "    <tr>\n",
       "      <th>max</th>\n",
       "      <td>NaN</td>\n",
       "      <td>2023.000000</td>\n",
       "      <td>NaN</td>\n",
       "      <td>NaN</td>\n",
       "      <td>NaN</td>\n",
       "      <td>NaN</td>\n",
       "      <td>NaN</td>\n",
       "      <td>6.600000</td>\n",
       "      <td>NaN</td>\n",
       "      <td>NaN</td>\n",
       "      <td>20.700000</td>\n",
       "      <td>520000.000000</td>\n",
       "      <td>NaN</td>\n",
       "      <td>NaN</td>\n",
       "      <td>12.000000</td>\n",
       "      <td>NaN</td>\n",
       "      <td>5.000000</td>\n",
       "      <td>14.000000</td>\n",
       "      <td>649880.00000</td>\n",
       "    </tr>\n",
       "  </tbody>\n",
       "</table>\n",
       "</div>"
      ],
      "text/plain": [
       "         Brand         Year    Model Car/Suv  \\\n",
       "count     7708  7708.000000     7708    7708   \n",
       "unique      54          NaN      388     166   \n",
       "top     Toyota          NaN  Corolla     SUV   \n",
       "freq      1603          NaN      275    2867   \n",
       "mean       NaN  2016.271147      NaN     NaN   \n",
       "std        NaN     4.633629      NaN     NaN   \n",
       "min        NaN  1989.000000      NaN     NaN   \n",
       "25%        NaN  2013.000000      NaN     NaN   \n",
       "50%        NaN  2017.000000      NaN     NaN   \n",
       "75%        NaN  2020.000000      NaN     NaN   \n",
       "max        NaN  2023.000000      NaN     NaN   \n",
       "\n",
       "                                          Title UsedOrNew Transmission  \\\n",
       "count                                      7708      7708         7708   \n",
       "unique                                     3684         3            3   \n",
       "top     2021 Toyota Corolla Ascent Sport Hybrid      USED    Automatic   \n",
       "freq                                         28      7264         6709   \n",
       "mean                                        NaN       NaN          NaN   \n",
       "std                                         NaN       NaN          NaN   \n",
       "min                                         NaN       NaN          NaN   \n",
       "25%                                         NaN       NaN          NaN   \n",
       "50%                                         NaN       NaN          NaN   \n",
       "75%                                         NaN       NaN          NaN   \n",
       "max                                         NaN       NaN          NaN   \n",
       "\n",
       "             Engine DriveType  FuelType  FuelConsumption     Kilometres  \\\n",
       "count   7708.000000      7708      7708      7708.000000    7708.000000   \n",
       "unique          NaN         4         5              NaN            NaN   \n",
       "top             NaN     Front  Unleaded              NaN            NaN   \n",
       "freq            NaN      3751      3680              NaN            NaN   \n",
       "mean       2.394707       NaN       NaN         7.841788   99835.223145   \n",
       "std        0.873218       NaN       NaN         2.032397   74444.813148   \n",
       "min        0.700000       NaN       NaN         1.700000       0.000000   \n",
       "25%        1.600000       NaN       NaN         6.500000   42650.000000   \n",
       "50%        2.400000       NaN       NaN         7.700000   87343.000000   \n",
       "75%        2.800000       NaN       NaN         8.900000  147286.500000   \n",
       "max        6.600000       NaN       NaN        20.700000  520000.000000   \n",
       "\n",
       "       ColourExtInt          Location  CylindersinEngine BodyType  \\\n",
       "count          7708              7708        7708.000000     7708   \n",
       "unique          404               545                NaN       10   \n",
       "top       White / -  Minchinbury, NSW                NaN      SUV   \n",
       "freq           1399               300                NaN     3186   \n",
       "mean            NaN               NaN           4.432019      NaN   \n",
       "std             NaN               NaN           1.026026      NaN   \n",
       "min             NaN               NaN           2.000000      NaN   \n",
       "25%             NaN               NaN           4.000000      NaN   \n",
       "50%             NaN               NaN           4.000000      NaN   \n",
       "75%             NaN               NaN           4.000000      NaN   \n",
       "max             NaN               NaN          12.000000      NaN   \n",
       "\n",
       "              Doors        Seats         Price  \n",
       "count   7708.000000  7708.000000    7708.00000  \n",
       "unique          NaN          NaN           NaN  \n",
       "top             NaN          NaN           NaN  \n",
       "freq            NaN          NaN           NaN  \n",
       "mean       4.061495     5.176570   32975.11274  \n",
       "std        0.668563     1.139127   27049.12838  \n",
       "min        2.000000     2.000000     900.00000  \n",
       "25%        4.000000     5.000000   17886.00000  \n",
       "50%        4.000000     5.000000   27990.00000  \n",
       "75%        4.000000     5.000000   39990.00000  \n",
       "max        5.000000    14.000000  649880.00000  "
      ]
     },
     "execution_count": 48,
     "metadata": {},
     "output_type": "execute_result"
    }
   ],
   "source": [
    "car.describe(include='all')"
   ]
  },
  {
   "cell_type": "code",
   "execution_count": 49,
   "metadata": {},
   "outputs": [],
   "source": [
    "car=car[car['Price']<300000]\n"
   ]
  },
  {
   "cell_type": "code",
   "execution_count": 50,
   "metadata": {},
   "outputs": [
    {
     "data": {
      "text/plain": [
       "(7699, 19)"
      ]
     },
     "execution_count": 50,
     "metadata": {},
     "output_type": "execute_result"
    }
   ],
   "source": [
    "car.shape"
   ]
  },
  {
   "cell_type": "markdown",
   "metadata": {},
   "source": [
    "Checking relationship of Company with Price"
   ]
  },
  {
   "cell_type": "code",
   "execution_count": 51,
   "metadata": {},
   "outputs": [
    {
     "data": {
      "text/plain": [
       "array(['Ssangyong', 'MG', 'Honda', 'Toyota', 'Volkswagen', 'Mitsubishi',\n",
       "       'Ford', 'Subaru', 'Hyundai', 'Nissan', 'Jeep', 'Volvo',\n",
       "       'Mercedes-Benz', 'Mazda', 'Holden', 'Kia', 'BMW', 'Audi',\n",
       "       'Porsche', 'Suzuki', 'Peugeot', 'Lexus', 'Renault', 'Jaguar',\n",
       "       'Fiat', 'Citroen', 'LDV', 'Foton', 'Mahindra', 'HSV', 'Skoda',\n",
       "       'Ram', 'Mini', 'Alfa', 'Genesis', 'Dodge', 'Land', 'Chrysler',\n",
       "       'Opel', 'Maserati', 'Chevrolet', 'GWM', 'McLaren', 'Great',\n",
       "       'Infiniti', 'Abarth', 'Ferrari', 'Tata', 'Aston', 'Daewoo',\n",
       "       'Proton', 'Smart'], dtype=object)"
      ]
     },
     "execution_count": 51,
     "metadata": {},
     "output_type": "execute_result"
    }
   ],
   "source": [
    "car['Brand'].unique()"
   ]
  },
  {
   "cell_type": "code",
   "execution_count": 52,
   "metadata": {},
   "outputs": [],
   "source": [
    "import seaborn as sns"
   ]
  },
  {
   "cell_type": "code",
   "execution_count": 53,
   "metadata": {},
   "outputs": [
    {
     "name": "stderr",
     "output_type": "stream",
     "text": [
      "C:\\Users\\USER\\AppData\\Local\\Temp\\ipykernel_5016\\2851198663.py:3: UserWarning: set_ticklabels() should only be used with a fixed number of ticks, i.e. after set_ticks() or using a FixedLocator.\n",
      "  ax.set_xticklabels(ax.get_xticklabels(),rotation=40,ha='right')\n"
     ]
    },
    {
     "data": {
      "image/png": "[encoded data removed]",
      "text/plain": [
       "<Figure size 1500x700 with 1 Axes>"
      ]
     },
     "metadata": {},
     "output_type": "display_data"
    }
   ],
   "source": [
    "plt.subplots(figsize=(15,7))\n",
    "ax=sns.boxplot(x='Brand',y='Price',data=car)\n",
    "ax.set_xticklabels(ax.get_xticklabels(),rotation=40,ha='right')\n",
    "plt.show()"
   ]
  },
  {
   "cell_type": "markdown",
   "metadata": {},
   "source": [
    "Checking relationship of Year with Price"
   ]
  },
  {
   "cell_type": "code",
   "execution_count": 54,
   "metadata": {},
   "outputs": [
    {
     "name": "stderr",
     "output_type": "stream",
     "text": [
      "c:\\Users\\USER\\anaconda3\\envs\\watchprice\\Lib\\site-packages\\seaborn\\categorical.py:3399: UserWarning: 21.4% of the points cannot be placed; you may want to decrease the size of the markers or use stripplot.\n",
      "  warnings.warn(msg, UserWarning)\n",
      "c:\\Users\\USER\\anaconda3\\envs\\watchprice\\Lib\\site-packages\\seaborn\\categorical.py:3399: UserWarning: 23.1% of the points cannot be placed; you may want to decrease the size of the markers or use stripplot.\n",
      "  warnings.warn(msg, UserWarning)\n",
      "c:\\Users\\USER\\anaconda3\\envs\\watchprice\\Lib\\site-packages\\seaborn\\categorical.py:3399: UserWarning: 40.6% of the points cannot be placed; you may want to decrease the size of the markers or use stripplot.\n",
      "  warnings.warn(msg, UserWarning)\n",
      "c:\\Users\\USER\\anaconda3\\envs\\watchprice\\Lib\\site-packages\\seaborn\\categorical.py:3399: UserWarning: 61.5% of the points cannot be placed; you may want to decrease the size of the markers or use stripplot.\n",
      "  warnings.warn(msg, UserWarning)\n",
      "c:\\Users\\USER\\anaconda3\\envs\\watchprice\\Lib\\site-packages\\seaborn\\categorical.py:3399: UserWarning: 64.5% of the points cannot be placed; you may want to decrease the size of the markers or use stripplot.\n",
      "  warnings.warn(msg, UserWarning)\n",
      "c:\\Users\\USER\\anaconda3\\envs\\watchprice\\Lib\\site-packages\\seaborn\\categorical.py:3399: UserWarning: 68.1% of the points cannot be placed; you may want to decrease the size of the markers or use stripplot.\n",
      "  warnings.warn(msg, UserWarning)\n",
      "c:\\Users\\USER\\anaconda3\\envs\\watchprice\\Lib\\site-packages\\seaborn\\categorical.py:3399: UserWarning: 67.2% of the points cannot be placed; you may want to decrease the size of the markers or use stripplot.\n",
      "  warnings.warn(msg, UserWarning)\n",
      "c:\\Users\\USER\\anaconda3\\envs\\watchprice\\Lib\\site-packages\\seaborn\\categorical.py:3399: UserWarning: 77.5% of the points cannot be placed; you may want to decrease the size of the markers or use stripplot.\n",
      "  warnings.warn(msg, UserWarning)\n",
      "c:\\Users\\USER\\anaconda3\\envs\\watchprice\\Lib\\site-packages\\seaborn\\categorical.py:3399: UserWarning: 77.3% of the points cannot be placed; you may want to decrease the size of the markers or use stripplot.\n",
      "  warnings.warn(msg, UserWarning)\n",
      "c:\\Users\\USER\\anaconda3\\envs\\watchprice\\Lib\\site-packages\\seaborn\\categorical.py:3399: UserWarning: 81.3% of the points cannot be placed; you may want to decrease the size of the markers or use stripplot.\n",
      "  warnings.warn(msg, UserWarning)\n",
      "c:\\Users\\USER\\anaconda3\\envs\\watchprice\\Lib\\site-packages\\seaborn\\categorical.py:3399: UserWarning: 81.8% of the points cannot be placed; you may want to decrease the size of the markers or use stripplot.\n",
      "  warnings.warn(msg, UserWarning)\n",
      "c:\\Users\\USER\\anaconda3\\envs\\watchprice\\Lib\\site-packages\\seaborn\\categorical.py:3399: UserWarning: 85.2% of the points cannot be placed; you may want to decrease the size of the markers or use stripplot.\n",
      "  warnings.warn(msg, UserWarning)\n",
      "c:\\Users\\USER\\anaconda3\\envs\\watchprice\\Lib\\site-packages\\seaborn\\categorical.py:3399: UserWarning: 82.3% of the points cannot be placed; you may want to decrease the size of the markers or use stripplot.\n",
      "  warnings.warn(msg, UserWarning)\n",
      "c:\\Users\\USER\\anaconda3\\envs\\watchprice\\Lib\\site-packages\\seaborn\\categorical.py:3399: UserWarning: 84.3% of the points cannot be placed; you may want to decrease the size of the markers or use stripplot.\n",
      "  warnings.warn(msg, UserWarning)\n",
      "c:\\Users\\USER\\anaconda3\\envs\\watchprice\\Lib\\site-packages\\seaborn\\categorical.py:3399: UserWarning: 83.2% of the points cannot be placed; you may want to decrease the size of the markers or use stripplot.\n",
      "  warnings.warn(msg, UserWarning)\n",
      "c:\\Users\\USER\\anaconda3\\envs\\watchprice\\Lib\\site-packages\\seaborn\\categorical.py:3399: UserWarning: 86.2% of the points cannot be placed; you may want to decrease the size of the markers or use stripplot.\n",
      "  warnings.warn(msg, UserWarning)\n",
      "c:\\Users\\USER\\anaconda3\\envs\\watchprice\\Lib\\site-packages\\seaborn\\categorical.py:3399: UserWarning: 82.5% of the points cannot be placed; you may want to decrease the size of the markers or use stripplot.\n",
      "  warnings.warn(msg, UserWarning)\n",
      "c:\\Users\\USER\\anaconda3\\envs\\watchprice\\Lib\\site-packages\\seaborn\\categorical.py:3399: UserWarning: 77.2% of the points cannot be placed; you may want to decrease the size of the markers or use stripplot.\n",
      "  warnings.warn(msg, UserWarning)\n",
      "c:\\Users\\USER\\anaconda3\\envs\\watchprice\\Lib\\site-packages\\seaborn\\categorical.py:3399: UserWarning: 73.7% of the points cannot be placed; you may want to decrease the size of the markers or use stripplot.\n",
      "  warnings.warn(msg, UserWarning)\n",
      "c:\\Users\\USER\\anaconda3\\envs\\watchprice\\Lib\\site-packages\\seaborn\\categorical.py:3399: UserWarning: 57.8% of the points cannot be placed; you may want to decrease the size of the markers or use stripplot.\n",
      "  warnings.warn(msg, UserWarning)\n",
      "C:\\Users\\USER\\AppData\\Local\\Temp\\ipykernel_5016\\1750184656.py:3: UserWarning: set_ticklabels() should only be used with a fixed number of ticks, i.e. after set_ticks() or using a FixedLocator.\n",
      "  ax.set_xticklabels(ax.get_xticklabels(),rotation=40,ha='right')\n",
      "c:\\Users\\USER\\anaconda3\\envs\\watchprice\\Lib\\site-packages\\seaborn\\categorical.py:3399: UserWarning: 21.4% of the points cannot be placed; you may want to decrease the size of the markers or use stripplot.\n",
      "  warnings.warn(msg, UserWarning)\n",
      "c:\\Users\\USER\\anaconda3\\envs\\watchprice\\Lib\\site-packages\\seaborn\\categorical.py:3399: UserWarning: 23.1% of the points cannot be placed; you may want to decrease the size of the markers or use stripplot.\n",
      "  warnings.warn(msg, UserWarning)\n",
      "c:\\Users\\USER\\anaconda3\\envs\\watchprice\\Lib\\site-packages\\seaborn\\categorical.py:3399: UserWarning: 40.6% of the points cannot be placed; you may want to decrease the size of the markers or use stripplot.\n",
      "  warnings.warn(msg, UserWarning)\n",
      "c:\\Users\\USER\\anaconda3\\envs\\watchprice\\Lib\\site-packages\\seaborn\\categorical.py:3399: UserWarning: 59.0% of the points cannot be placed; you may want to decrease the size of the markers or use stripplot.\n",
      "  warnings.warn(msg, UserWarning)\n",
      "c:\\Users\\USER\\anaconda3\\envs\\watchprice\\Lib\\site-packages\\seaborn\\categorical.py:3399: UserWarning: 64.5% of the points cannot be placed; you may want to decrease the size of the markers or use stripplot.\n",
      "  warnings.warn(msg, UserWarning)\n",
      "c:\\Users\\USER\\anaconda3\\envs\\watchprice\\Lib\\site-packages\\seaborn\\categorical.py:3399: UserWarning: 68.1% of the points cannot be placed; you may want to decrease the size of the markers or use stripplot.\n",
      "  warnings.warn(msg, UserWarning)\n",
      "c:\\Users\\USER\\anaconda3\\envs\\watchprice\\Lib\\site-packages\\seaborn\\categorical.py:3399: UserWarning: 65.7% of the points cannot be placed; you may want to decrease the size of the markers or use stripplot.\n",
      "  warnings.warn(msg, UserWarning)\n",
      "c:\\Users\\USER\\anaconda3\\envs\\watchprice\\Lib\\site-packages\\seaborn\\categorical.py:3399: UserWarning: 77.5% of the points cannot be placed; you may want to decrease the size of the markers or use stripplot.\n",
      "  warnings.warn(msg, UserWarning)\n",
      "c:\\Users\\USER\\anaconda3\\envs\\watchprice\\Lib\\site-packages\\seaborn\\categorical.py:3399: UserWarning: 75.8% of the points cannot be placed; you may want to decrease the size of the markers or use stripplot.\n",
      "  warnings.warn(msg, UserWarning)\n",
      "c:\\Users\\USER\\anaconda3\\envs\\watchprice\\Lib\\site-packages\\seaborn\\categorical.py:3399: UserWarning: 80.9% of the points cannot be placed; you may want to decrease the size of the markers or use stripplot.\n",
      "  warnings.warn(msg, UserWarning)\n",
      "c:\\Users\\USER\\anaconda3\\envs\\watchprice\\Lib\\site-packages\\seaborn\\categorical.py:3399: UserWarning: 80.3% of the points cannot be placed; you may want to decrease the size of the markers or use stripplot.\n",
      "  warnings.warn(msg, UserWarning)\n",
      "c:\\Users\\USER\\anaconda3\\envs\\watchprice\\Lib\\site-packages\\seaborn\\categorical.py:3399: UserWarning: 85.0% of the points cannot be placed; you may want to decrease the size of the markers or use stripplot.\n",
      "  warnings.warn(msg, UserWarning)\n",
      "c:\\Users\\USER\\anaconda3\\envs\\watchprice\\Lib\\site-packages\\seaborn\\categorical.py:3399: UserWarning: 81.8% of the points cannot be placed; you may want to decrease the size of the markers or use stripplot.\n",
      "  warnings.warn(msg, UserWarning)\n",
      "c:\\Users\\USER\\anaconda3\\envs\\watchprice\\Lib\\site-packages\\seaborn\\categorical.py:3399: UserWarning: 84.0% of the points cannot be placed; you may want to decrease the size of the markers or use stripplot.\n",
      "  warnings.warn(msg, UserWarning)\n",
      "c:\\Users\\USER\\anaconda3\\envs\\watchprice\\Lib\\site-packages\\seaborn\\categorical.py:3399: UserWarning: 81.9% of the points cannot be placed; you may want to decrease the size of the markers or use stripplot.\n",
      "  warnings.warn(msg, UserWarning)\n",
      "c:\\Users\\USER\\anaconda3\\envs\\watchprice\\Lib\\site-packages\\seaborn\\categorical.py:3399: UserWarning: 82.6% of the points cannot be placed; you may want to decrease the size of the markers or use stripplot.\n",
      "  warnings.warn(msg, UserWarning)\n",
      "c:\\Users\\USER\\anaconda3\\envs\\watchprice\\Lib\\site-packages\\seaborn\\categorical.py:3399: UserWarning: 85.4% of the points cannot be placed; you may want to decrease the size of the markers or use stripplot.\n",
      "  warnings.warn(msg, UserWarning)\n",
      "c:\\Users\\USER\\anaconda3\\envs\\watchprice\\Lib\\site-packages\\seaborn\\categorical.py:3399: UserWarning: 82.1% of the points cannot be placed; you may want to decrease the size of the markers or use stripplot.\n",
      "  warnings.warn(msg, UserWarning)\n",
      "c:\\Users\\USER\\anaconda3\\envs\\watchprice\\Lib\\site-packages\\seaborn\\categorical.py:3399: UserWarning: 76.5% of the points cannot be placed; you may want to decrease the size of the markers or use stripplot.\n",
      "  warnings.warn(msg, UserWarning)\n",
      "c:\\Users\\USER\\anaconda3\\envs\\watchprice\\Lib\\site-packages\\seaborn\\categorical.py:3399: UserWarning: 76.4% of the points cannot be placed; you may want to decrease the size of the markers or use stripplot.\n",
      "  warnings.warn(msg, UserWarning)\n",
      "c:\\Users\\USER\\anaconda3\\envs\\watchprice\\Lib\\site-packages\\seaborn\\categorical.py:3399: UserWarning: 72.0% of the points cannot be placed; you may want to decrease the size of the markers or use stripplot.\n",
      "  warnings.warn(msg, UserWarning)\n",
      "c:\\Users\\USER\\anaconda3\\envs\\watchprice\\Lib\\site-packages\\seaborn\\categorical.py:3399: UserWarning: 55.6% of the points cannot be placed; you may want to decrease the size of the markers or use stripplot.\n",
      "  warnings.warn(msg, UserWarning)\n"
     ]
    },
    {
     "data": {
      "image/png": "[encoded data removed]",
      "text/plain": [
       "<Figure size 2000x1000 with 1 Axes>"
      ]
     },
     "metadata": {},
     "output_type": "display_data"
    }
   ],
   "source": [
    "plt.subplots(figsize=(20,10))\n",
    "ax=sns.swarmplot(x='Year',y='Price',data=car)\n",
    "ax.set_xticklabels(ax.get_xticklabels(),rotation=40,ha='right')\n",
    "plt.show()"
   ]
  },
  {
   "cell_type": "markdown",
   "metadata": {},
   "source": [
    "Model"
   ]
  },
  {
   "cell_type": "code",
   "execution_count": 55,
   "metadata": {},
   "outputs": [],
   "source": [
    "X=car.drop(columns=\"Price\")\n",
    "y=car['Price']"
   ]
  },
  {
   "cell_type": "code",
   "execution_count": 56,
   "metadata": {},
   "outputs": [],
   "source": [
    "from sklearn.model_selection import train_test_split\n",
    "X_train,X_test,y_train,y_test=train_test_split(X,y,test_size=0.2)"
   ]
  },
  {
   "cell_type": "code",
   "execution_count": 57,
   "metadata": {},
   "outputs": [],
   "source": [
    "from sklearn.linear_model import LinearRegression"
   ]
  },
  {
   "cell_type": "code",
   "execution_count": 58,
   "metadata": {},
   "outputs": [],
   "source": [
    "from sklearn.preprocessing import OneHotEncoder\n",
    "from sklearn.compose import make_column_transformer\n",
    "from sklearn.pipeline import make_pipeline\n",
    "from sklearn.metrics import r2_score"
   ]
  },
  {
   "cell_type": "markdown",
   "metadata": {},
   "source": [
    "Creating an OneHotEncoder object to contain all the possible categories"
   ]
  },
  {
   "cell_type": "code",
   "execution_count": 59,
   "metadata": {},
   "outputs": [
    {
     "name": "stdout",
     "output_type": "stream",
     "text": [
      "<class 'pandas.core.frame.DataFrame'>\n",
      "Index: 7699 entries, 0 to 7707\n",
      "Data columns (total 19 columns):\n",
      " #   Column             Non-Null Count  Dtype  \n",
      "---  ------             --------------  -----  \n",
      " 0   Brand              7699 non-null   object \n",
      " 1   Year               7699 non-null   int64  \n",
      " 2   Model              7699 non-null   object \n",
      " 3   Car/Suv            7699 non-null   object \n",
      " 4   Title              7699 non-null   object \n",
      " 5   UsedOrNew          7699 non-null   object \n",
      " 6   Transmission       7699 non-null   object \n",
      " 7   Engine             7699 non-null   float64\n",
      " 8   DriveType          7699 non-null   object \n",
      " 9   FuelType           7699 non-null   object \n",
      " 10  FuelConsumption    7699 non-null   float64\n",
      " 11  Kilometres         7699 non-null   int64  \n",
      " 12  ColourExtInt       7699 non-null   object \n",
      " 13  Location           7699 non-null   object \n",
      " 14  CylindersinEngine  7699 non-null   int64  \n",
      " 15  BodyType           7699 non-null   object \n",
      " 16  Doors              7699 non-null   int64  \n",
      " 17  Seats              7699 non-null   int64  \n",
      " 18  Price              7699 non-null   int64  \n",
      "dtypes: float64(2), int64(6), object(11)\n",
      "memory usage: 1.2+ MB\n"
     ]
    }
   ],
   "source": [
    "car.info()"
   ]
  },
  {
   "cell_type": "code",
   "execution_count": 71,
   "metadata": {},
   "outputs": [
    {
     "data": {
      "text/html": [
       "<style>#sk-container-id-3 {\n",
       "  /* Definition of color scheme common for light and dark mode */\n",
       "  --sklearn-color-text: black;\n",
       "  --sklearn-color-line: gray;\n",
       "  /* Definition of color scheme for unfitted estimators */\n",
       "  --sklearn-color-unfitted-level-0: #fff5e6;\n",
       "  --sklearn-color-unfitted-level-1: #f6e4d2;\n",
       "  --sklearn-color-unfitted-level-2: #ffe0b3;\n",
       "  --sklearn-color-unfitted-level-3: chocolate;\n",
       "  /* Definition of color scheme for fitted estimators */\n",
       "  --sklearn-color-fitted-level-0: #f0f8ff;\n",
       "  --sklearn-color-fitted-level-1: #d4ebff;\n",
       "  --sklearn-color-fitted-level-2: #b3dbfd;\n",
       "  --sklearn-color-fitted-level-3: cornflowerblue;\n",
       "\n",
       "  /* Specific color for light theme */\n",
       "  --sklearn-color-text-on-default-background: var(--sg-text-color, var(--theme-code-foreground, var(--jp-content-font-color1, black)));\n",
       "  --sklearn-color-background: var(--sg-background-color, var(--theme-background, var(--jp-layout-color0, white)));\n",
       "  --sklearn-color-border-box: var(--sg-text-color, var(--theme-code-foreground, var(--jp-content-font-color1, black)));\n",
       "  --sklearn-color-icon: #696969;\n",
       "\n",
       "  @media (prefers-color-scheme: dark) {\n",
       "    /* Redefinition of color scheme for dark theme */\n",
       "    --sklearn-color-text-on-default-background: var(--sg-text-color, var(--theme-code-foreground, var(--jp-content-font-color1, white)));\n",
       "    --sklearn-color-background: var(--sg-background-color, var(--theme-background, var(--jp-layout-color0, #111)));\n",
       "    --sklearn-color-border-box: var(--sg-text-color, var(--theme-code-foreground, var(--jp-content-font-color1, white)));\n",
       "    --sklearn-color-icon: #878787;\n",
       "  }\n",
       "}\n",
       "\n",
       "#sk-container-id-3 {\n",
       "  color: var(--sklearn-color-text);\n",
       "}\n",
       "\n",
       "#sk-container-id-3 pre {\n",
       "  padding: 0;\n",
       "}\n",
       "\n",
       "#sk-container-id-3 input.sk-hidden--visually {\n",
       "  border: 0;\n",
       "  clip: rect(1px 1px 1px 1px);\n",
       "  clip: rect(1px, 1px, 1px, 1px);\n",
       "  height: 1px;\n",
       "  margin: -1px;\n",
       "  overflow: hidden;\n",
       "  padding: 0;\n",
       "  position: absolute;\n",
       "  width: 1px;\n",
       "}\n",
       "\n",
       "#sk-container-id-3 div.sk-dashed-wrapped {\n",
       "  border: 1px dashed var(--sklearn-color-line);\n",
       "  margin: 0 0.4em 0.5em 0.4em;\n",
       "  box-sizing: border-box;\n",
       "  padding-bottom: 0.4em;\n",
       "  background-color: var(--sklearn-color-background);\n",
       "}\n",
       "\n",
       "#sk-container-id-3 div.sk-container {\n",
       "  /* jupyter's `normalize.less` sets `[hidden] { display: none; }`\n",
       "     but bootstrap.min.css set `[hidden] { display: none !important; }`\n",
       "     so we also need the `!important` here to be able to override the\n",
       "     default hidden behavior on the sphinx rendered scikit-learn.org.\n",
       "     See: https://github.com/scikit-learn/scikit-learn/issues/21755 */\n",
       "  display: inline-block !important;\n",
       "  position: relative;\n",
       "}\n",
       "\n",
       "#sk-container-id-3 div.sk-text-repr-fallback {\n",
       "  display: none;\n",
       "}\n",
       "\n",
       "div.sk-parallel-item,\n",
       "div.sk-serial,\n",
       "div.sk-item {\n",
       "  /* draw centered vertical line to link estimators */\n",
       "  background-image: linear-gradient(var(--sklearn-color-text-on-default-background), var(--sklearn-color-text-on-default-background));\n",
       "  background-size: 2px 100%;\n",
       "  background-repeat: no-repeat;\n",
       "  background-position: center center;\n",
       "}\n",
       "\n",
       "/* Parallel-specific style estimator block */\n",
       "\n",
       "#sk-container-id-3 div.sk-parallel-item::after {\n",
       "  content: \"\";\n",
       "  width: 100%;\n",
       "  border-bottom: 2px solid var(--sklearn-color-text-on-default-background);\n",
       "  flex-grow: 1;\n",
       "}\n",
       "\n",
       "#sk-container-id-3 div.sk-parallel {\n",
       "  display: flex;\n",
       "  align-items: stretch;\n",
       "  justify-content: center;\n",
       "  background-color: var(--sklearn-color-background);\n",
       "  position: relative;\n",
       "}\n",
       "\n",
       "#sk-container-id-3 div.sk-parallel-item {\n",
       "  display: flex;\n",
       "  flex-direction: column;\n",
       "}\n",
       "\n",
       "#sk-container-id-3 div.sk-parallel-item:first-child::after {\n",
       "  align-self: flex-end;\n",
       "  width: 50%;\n",
       "}\n",
       "\n",
       "#sk-container-id-3 div.sk-parallel-item:last-child::after {\n",
       "  align-self: flex-start;\n",
       "  width: 50%;\n",
       "}\n",
       "\n",
       "#sk-container-id-3 div.sk-parallel-item:only-child::after {\n",
       "  width: 0;\n",
       "}\n",
       "\n",
       "/* Serial-specific style estimator block */\n",
       "\n",
       "#sk-container-id-3 div.sk-serial {\n",
       "  display: flex;\n",
       "  flex-direction: column;\n",
       "  align-items: center;\n",
       "  background-color: var(--sklearn-color-background);\n",
       "  padding-right: 1em;\n",
       "  padding-left: 1em;\n",
       "}\n",
       "\n",
       "\n",
       "/* Toggleable style: style used for estimator/Pipeline/ColumnTransformer box that is\n",
       "clickable and can be expanded/collapsed.\n",
       "- Pipeline and ColumnTransformer use this feature and define the default style\n",
       "- Estimators will overwrite some part of the style using the `sk-estimator` class\n",
       "*/\n",
       "\n",
       "/* Pipeline and ColumnTransformer style (default) */\n",
       "\n",
       "#sk-container-id-3 div.sk-toggleable {\n",
       "  /* Default theme specific background. It is overwritten whether we have a\n",
       "  specific estimator or a Pipeline/ColumnTransformer */\n",
       "  background-color: var(--sklearn-color-background);\n",
       "}\n",
       "\n",
       "/* Toggleable label */\n",
       "#sk-container-id-3 label.sk-toggleable__label {\n",
       "  cursor: pointer;\n",
       "  display: block;\n",
       "  width: 100%;\n",
       "  margin-bottom: 0;\n",
       "  padding: 0.5em;\n",
       "  box-sizing: border-box;\n",
       "  text-align: center;\n",
       "}\n",
       "\n",
       "#sk-container-id-3 label.sk-toggleable__label-arrow:before {\n",
       "  /* Arrow on the left of the label */\n",
       "  content: \"▸\";\n",
       "  float: left;\n",
       "  margin-right: 0.25em;\n",
       "  color: var(--sklearn-color-icon);\n",
       "}\n",
       "\n",
       "#sk-container-id-3 label.sk-toggleable__label-arrow:hover:before {\n",
       "  color: var(--sklearn-color-text);\n",
       "}\n",
       "\n",
       "/* Toggleable content - dropdown */\n",
       "\n",
       "#sk-container-id-3 div.sk-toggleable__content {\n",
       "  max-height: 0;\n",
       "  max-width: 0;\n",
       "  overflow: hidden;\n",
       "  text-align: left;\n",
       "  /* unfitted */\n",
       "  background-color: var(--sklearn-color-unfitted-level-0);\n",
       "}\n",
       "\n",
       "#sk-container-id-3 div.sk-toggleable__content.fitted {\n",
       "  /* fitted */\n",
       "  background-color: var(--sklearn-color-fitted-level-0);\n",
       "}\n",
       "\n",
       "#sk-container-id-3 div.sk-toggleable__content pre {\n",
       "  margin: 0.2em;\n",
       "  border-radius: 0.25em;\n",
       "  color: var(--sklearn-color-text);\n",
       "  /* unfitted */\n",
       "  background-color: var(--sklearn-color-unfitted-level-0);\n",
       "}\n",
       "\n",
       "#sk-container-id-3 div.sk-toggleable__content.fitted pre {\n",
       "  /* unfitted */\n",
       "  background-color: var(--sklearn-color-fitted-level-0);\n",
       "}\n",
       "\n",
       "#sk-container-id-3 input.sk-toggleable__control:checked~div.sk-toggleable__content {\n",
       "  /* Expand drop-down */\n",
       "  max-height: 200px;\n",
       "  max-width: 100%;\n",
       "  overflow: auto;\n",
       "}\n",
       "\n",
       "#sk-container-id-3 input.sk-toggleable__control:checked~label.sk-toggleable__label-arrow:before {\n",
       "  content: \"▾\";\n",
       "}\n",
       "\n",
       "/* Pipeline/ColumnTransformer-specific style */\n",
       "\n",
       "#sk-container-id-3 div.sk-label input.sk-toggleable__control:checked~label.sk-toggleable__label {\n",
       "  color: var(--sklearn-color-text);\n",
       "  background-color: var(--sklearn-color-unfitted-level-2);\n",
       "}\n",
       "\n",
       "#sk-container-id-3 div.sk-label.fitted input.sk-toggleable__control:checked~label.sk-toggleable__label {\n",
       "  background-color: var(--sklearn-color-fitted-level-2);\n",
       "}\n",
       "\n",
       "/* Estimator-specific style */\n",
       "\n",
       "/* Colorize estimator box */\n",
       "#sk-container-id-3 div.sk-estimator input.sk-toggleable__control:checked~label.sk-toggleable__label {\n",
       "  /* unfitted */\n",
       "  background-color: var(--sklearn-color-unfitted-level-2);\n",
       "}\n",
       "\n",
       "#sk-container-id-3 div.sk-estimator.fitted input.sk-toggleable__control:checked~label.sk-toggleable__label {\n",
       "  /* fitted */\n",
       "  background-color: var(--sklearn-color-fitted-level-2);\n",
       "}\n",
       "\n",
       "#sk-container-id-3 div.sk-label label.sk-toggleable__label,\n",
       "#sk-container-id-3 div.sk-label label {\n",
       "  /* The background is the default theme color */\n",
       "  color: var(--sklearn-color-text-on-default-background);\n",
       "}\n",
       "\n",
       "/* On hover, darken the color of the background */\n",
       "#sk-container-id-3 div.sk-label:hover label.sk-toggleable__label {\n",
       "  color: var(--sklearn-color-text);\n",
       "  background-color: var(--sklearn-color-unfitted-level-2);\n",
       "}\n",
       "\n",
       "/* Label box, darken color on hover, fitted */\n",
       "#sk-container-id-3 div.sk-label.fitted:hover label.sk-toggleable__label.fitted {\n",
       "  color: var(--sklearn-color-text);\n",
       "  background-color: var(--sklearn-color-fitted-level-2);\n",
       "}\n",
       "\n",
       "/* Estimator label */\n",
       "\n",
       "#sk-container-id-3 div.sk-label label {\n",
       "  font-family: monospace;\n",
       "  font-weight: bold;\n",
       "  display: inline-block;\n",
       "  line-height: 1.2em;\n",
       "}\n",
       "\n",
       "#sk-container-id-3 div.sk-label-container {\n",
       "  text-align: center;\n",
       "}\n",
       "\n",
       "/* Estimator-specific */\n",
       "#sk-container-id-3 div.sk-estimator {\n",
       "  font-family: monospace;\n",
       "  border: 1px dotted var(--sklearn-color-border-box);\n",
       "  border-radius: 0.25em;\n",
       "  box-sizing: border-box;\n",
       "  margin-bottom: 0.5em;\n",
       "  /* unfitted */\n",
       "  background-color: var(--sklearn-color-unfitted-level-0);\n",
       "}\n",
       "\n",
       "#sk-container-id-3 div.sk-estimator.fitted {\n",
       "  /* fitted */\n",
       "  background-color: var(--sklearn-color-fitted-level-0);\n",
       "}\n",
       "\n",
       "/* on hover */\n",
       "#sk-container-id-3 div.sk-estimator:hover {\n",
       "  /* unfitted */\n",
       "  background-color: var(--sklearn-color-unfitted-level-2);\n",
       "}\n",
       "\n",
       "#sk-container-id-3 div.sk-estimator.fitted:hover {\n",
       "  /* fitted */\n",
       "  background-color: var(--sklearn-color-fitted-level-2);\n",
       "}\n",
       "\n",
       "/* Specification for estimator info (e.g. \"i\" and \"?\") */\n",
       "\n",
       "/* Common style for \"i\" and \"?\" */\n",
       "\n",
       ".sk-estimator-doc-link,\n",
       "a:link.sk-estimator-doc-link,\n",
       "a:visited.sk-estimator-doc-link {\n",
       "  float: right;\n",
       "  font-size: smaller;\n",
       "  line-height: 1em;\n",
       "  font-family: monospace;\n",
       "  background-color: var(--sklearn-color-background);\n",
       "  border-radius: 1em;\n",
       "  height: 1em;\n",
       "  width: 1em;\n",
       "  text-decoration: none !important;\n",
       "  margin-left: 1ex;\n",
       "  /* unfitted */\n",
       "  border: var(--sklearn-color-unfitted-level-1) 1pt solid;\n",
       "  color: var(--sklearn-color-unfitted-level-1);\n",
       "}\n",
       "\n",
       ".sk-estimator-doc-link.fitted,\n",
       "a:link.sk-estimator-doc-link.fitted,\n",
       "a:visited.sk-estimator-doc-link.fitted {\n",
       "  /* fitted */\n",
       "  border: var(--sklearn-color-fitted-level-1) 1pt solid;\n",
       "  color: var(--sklearn-color-fitted-level-1);\n",
       "}\n",
       "\n",
       "/* On hover */\n",
       "div.sk-estimator:hover .sk-estimator-doc-link:hover,\n",
       ".sk-estimator-doc-link:hover,\n",
       "div.sk-label-container:hover .sk-estimator-doc-link:hover,\n",
       ".sk-estimator-doc-link:hover {\n",
       "  /* unfitted */\n",
       "  background-color: var(--sklearn-color-unfitted-level-3);\n",
       "  color: var(--sklearn-color-background);\n",
       "  text-decoration: none;\n",
       "}\n",
       "\n",
       "div.sk-estimator.fitted:hover .sk-estimator-doc-link.fitted:hover,\n",
       ".sk-estimator-doc-link.fitted:hover,\n",
       "div.sk-label-container:hover .sk-estimator-doc-link.fitted:hover,\n",
       ".sk-estimator-doc-link.fitted:hover {\n",
       "  /* fitted */\n",
       "  background-color: var(--sklearn-color-fitted-level-3);\n",
       "  color: var(--sklearn-color-background);\n",
       "  text-decoration: none;\n",
       "}\n",
       "\n",
       "/* Span, style for the box shown on hovering the info icon */\n",
       ".sk-estimator-doc-link span {\n",
       "  display: none;\n",
       "  z-index: 9999;\n",
       "  position: relative;\n",
       "  font-weight: normal;\n",
       "  right: .2ex;\n",
       "  padding: .5ex;\n",
       "  margin: .5ex;\n",
       "  width: min-content;\n",
       "  min-width: 20ex;\n",
       "  max-width: 50ex;\n",
       "  color: var(--sklearn-color-text);\n",
       "  box-shadow: 2pt 2pt 4pt #999;\n",
       "  /* unfitted */\n",
       "  background: var(--sklearn-color-unfitted-level-0);\n",
       "  border: .5pt solid var(--sklearn-color-unfitted-level-3);\n",
       "}\n",
       "\n",
       ".sk-estimator-doc-link.fitted span {\n",
       "  /* fitted */\n",
       "  background: var(--sklearn-color-fitted-level-0);\n",
       "  border: var(--sklearn-color-fitted-level-3);\n",
       "}\n",
       "\n",
       ".sk-estimator-doc-link:hover span {\n",
       "  display: block;\n",
       "}\n",
       "\n",
       "/* \"?\"-specific style due to the `<a>` HTML tag */\n",
       "\n",
       "#sk-container-id-3 a.estimator_doc_link {\n",
       "  float: right;\n",
       "  font-size: 1rem;\n",
       "  line-height: 1em;\n",
       "  font-family: monospace;\n",
       "  background-color: var(--sklearn-color-background);\n",
       "  border-radius: 1rem;\n",
       "  height: 1rem;\n",
       "  width: 1rem;\n",
       "  text-decoration: none;\n",
       "  /* unfitted */\n",
       "  color: var(--sklearn-color-unfitted-level-1);\n",
       "  border: var(--sklearn-color-unfitted-level-1) 1pt solid;\n",
       "}\n",
       "\n",
       "#sk-container-id-3 a.estimator_doc_link.fitted {\n",
       "  /* fitted */\n",
       "  border: var(--sklearn-color-fitted-level-1) 1pt solid;\n",
       "  color: var(--sklearn-color-fitted-level-1);\n",
       "}\n",
       "\n",
       "/* On hover */\n",
       "#sk-container-id-3 a.estimator_doc_link:hover {\n",
       "  /* unfitted */\n",
       "  background-color: var(--sklearn-color-unfitted-level-3);\n",
       "  color: var(--sklearn-color-background);\n",
       "  text-decoration: none;\n",
       "}\n",
       "\n",
       "#sk-container-id-3 a.estimator_doc_link.fitted:hover {\n",
       "  /* fitted */\n",
       "  background-color: var(--sklearn-color-fitted-level-3);\n",
       "}\n",
       "</style><div id=\"sk-container-id-3\" class=\"sk-top-container\"><div class=\"sk-text-repr-fallback\"><pre>OneHotEncoder()</pre><b>In a Jupyter environment, please rerun this cell to show the HTML representation or trust the notebook. <br />On GitHub, the HTML representation is unable to render, please try loading this page with nbviewer.org.</b></div><div class=\"sk-container\" hidden><div class=\"sk-item\"><div class=\"sk-estimator fitted sk-toggleable\"><input class=\"sk-toggleable__control sk-hidden--visually\" id=\"sk-estimator-id-9\" type=\"checkbox\" checked><label for=\"sk-estimator-id-9\" class=\"sk-toggleable__label fitted sk-toggleable__label-arrow fitted\">&nbsp;&nbsp;OneHotEncoder<a class=\"sk-estimator-doc-link fitted\" rel=\"noreferrer\" target=\"_blank\" href=\"https://scikit-learn.org/1.5/modules/generated/sklearn.preprocessing.OneHotEncoder.html\">?<span>Documentation for OneHotEncoder</span></a><span class=\"sk-estimator-doc-link fitted\">i<span>Fitted</span></span></label><div class=\"sk-toggleable__content fitted\"><pre>OneHotEncoder()</pre></div> </div></div></div></div>"
      ],
      "text/plain": [
       "OneHotEncoder()"
      ]
     },
     "execution_count": 71,
     "metadata": {},
     "output_type": "execute_result"
    }
   ],
   "source": [
    "ohe=OneHotEncoder()\n",
    "ohe.fit(X[['Brand','Model','Car/Suv','Title','UsedOrNew','Transmission','DriveType','FuelType','ColourExtInt','Location','BodyType']])"
   ]
  },
  {
   "cell_type": "markdown",
   "metadata": {},
   "source": [
    "Creating a column transformer to transform categorical columns"
   ]
  },
  {
   "cell_type": "code",
   "execution_count": 72,
   "metadata": {},
   "outputs": [],
   "source": [
    "'''from sklearn.impute import SimpleImputer\n",
    "column_trans=make_column_transformer(OneHotEncoder(categories=ohe.categories_),['Brand','FuelType',\"Model\",\"Engine\"],(SimpleImputer,),remainder='passthrough')        '''\n",
    "column_trans=make_column_transformer((OneHotEncoder(categories=ohe.categories_),['Brand','Model','Car/Suv','Title','UsedOrNew','Transmission','DriveType','FuelType','ColourExtInt','Location','BodyType']),\n",
    "                                    remainder='passthrough')               "
   ]
  },
  {
   "cell_type": "markdown",
   "metadata": {},
   "source": [
    "Linear Regression Model"
   ]
  },
  {
   "cell_type": "code",
   "execution_count": 73,
   "metadata": {},
   "outputs": [],
   "source": [
    "lr=LinearRegression()"
   ]
  },
  {
   "cell_type": "markdown",
   "metadata": {},
   "source": [
    "Making a pipeline"
   ]
  },
  {
   "cell_type": "code",
   "execution_count": 74,
   "metadata": {},
   "outputs": [],
   "source": [
    "pipe=make_pipeline(column_trans,lr)"
   ]
  },
  {
   "cell_type": "markdown",
   "metadata": {},
   "source": [
    "Fitting the model"
   ]
  },
  {
   "cell_type": "code",
   "execution_count": 75,
   "metadata": {},
   "outputs": [
    {
     "name": "stderr",
     "output_type": "stream",
     "text": [
      "c:\\Users\\USER\\anaconda3\\envs\\watchprice\\Lib\\site-packages\\sklearn\\compose\\_column_transformer.py:1623: FutureWarning: \n",
      "The format of the columns of the 'remainder' transformer in ColumnTransformer.transformers_ will change in version 1.7 to match the format of the other transformers.\n",
      "At the moment the remainder columns are stored as indices (of type int). With the same ColumnTransformer configuration, in the future they will be stored as column names (of type str).\n",
      "To use the new behavior now and suppress this warning, use ColumnTransformer(force_int_remainder_cols=False).\n",
      "\n",
      "  warnings.warn(\n"
     ]
    },
    {
     "data": {
      "text/html": [
       "<style>#sk-container-id-4 {\n",
       "  /* Definition of color scheme common for light and dark mode */\n",
       "  --sklearn-color-text: black;\n",
       "  --sklearn-color-line: gray;\n",
       "  /* Definition of color scheme for unfitted estimators */\n",
       "  --sklearn-color-unfitted-level-0: #fff5e6;\n",
       "  --sklearn-color-unfitted-level-1: #f6e4d2;\n",
       "  --sklearn-color-unfitted-level-2: #ffe0b3;\n",
       "  --sklearn-color-unfitted-level-3: chocolate;\n",
       "  /* Definition of color scheme for fitted estimators */\n",
       "  --sklearn-color-fitted-level-0: #f0f8ff;\n",
       "  --sklearn-color-fitted-level-1: #d4ebff;\n",
       "  --sklearn-color-fitted-level-2: #b3dbfd;\n",
       "  --sklearn-color-fitted-level-3: cornflowerblue;\n",
       "\n",
       "  /* Specific color for light theme */\n",
       "  --sklearn-color-text-on-default-background: var(--sg-text-color, var(--theme-code-foreground, var(--jp-content-font-color1, black)));\n",
       "  --sklearn-color-background: var(--sg-background-color, var(--theme-background, var(--jp-layout-color0, white)));\n",
       "  --sklearn-color-border-box: var(--sg-text-color, var(--theme-code-foreground, var(--jp-content-font-color1, black)));\n",
       "  --sklearn-color-icon: #696969;\n",
       "\n",
       "  @media (prefers-color-scheme: dark) {\n",
       "    /* Redefinition of color scheme for dark theme */\n",
       "    --sklearn-color-text-on-default-background: var(--sg-text-color, var(--theme-code-foreground, var(--jp-content-font-color1, white)));\n",
       "    --sklearn-color-background: var(--sg-background-color, var(--theme-background, var(--jp-layout-color0, #111)));\n",
       "    --sklearn-color-border-box: var(--sg-text-color, var(--theme-code-foreground, var(--jp-content-font-color1, white)));\n",
       "    --sklearn-color-icon: #878787;\n",
       "  }\n",
       "}\n",
       "\n",
       "#sk-container-id-4 {\n",
       "  color: var(--sklearn-color-text);\n",
       "}\n",
       "\n",
       "#sk-container-id-4 pre {\n",
       "  padding: 0;\n",
       "}\n",
       "\n",
       "#sk-container-id-4 input.sk-hidden--visually {\n",
       "  border: 0;\n",
       "  clip: rect(1px 1px 1px 1px);\n",
       "  clip: rect(1px, 1px, 1px, 1px);\n",
       "  height: 1px;\n",
       "  margin: -1px;\n",
       "  overflow: hidden;\n",
       "  padding: 0;\n",
       "  position: absolute;\n",
       "  width: 1px;\n",
       "}\n",
       "\n",
       "#sk-container-id-4 div.sk-dashed-wrapped {\n",
       "  border: 1px dashed var(--sklearn-color-line);\n",
       "  margin: 0 0.4em 0.5em 0.4em;\n",
       "  box-sizing: border-box;\n",
       "  padding-bottom: 0.4em;\n",
       "  background-color: var(--sklearn-color-background);\n",
       "}\n",
       "\n",
       "#sk-container-id-4 div.sk-container {\n",
       "  /* jupyter's `normalize.less` sets `[hidden] { display: none; }`\n",
       "     but bootstrap.min.css set `[hidden] { display: none !important; }`\n",
       "     so we also need the `!important` here to be able to override the\n",
       "     default hidden behavior on the sphinx rendered scikit-learn.org.\n",
       "     See: https://github.com/scikit-learn/scikit-learn/issues/21755 */\n",
       "  display: inline-block !important;\n",
       "  position: relative;\n",
       "}\n",
       "\n",
       "#sk-container-id-4 div.sk-text-repr-fallback {\n",
       "  display: none;\n",
       "}\n",
       "\n",
       "div.sk-parallel-item,\n",
       "div.sk-serial,\n",
       "div.sk-item {\n",
       "  /* draw centered vertical line to link estimators */\n",
       "  background-image: linear-gradient(var(--sklearn-color-text-on-default-background), var(--sklearn-color-text-on-default-background));\n",
       "  background-size: 2px 100%;\n",
       "  background-repeat: no-repeat;\n",
       "  background-position: center center;\n",
       "}\n",
       "\n",
       "/* Parallel-specific style estimator block */\n",
       "\n",
       "#sk-container-id-4 div.sk-parallel-item::after {\n",
       "  content: \"\";\n",
       "  width: 100%;\n",
       "  border-bottom: 2px solid var(--sklearn-color-text-on-default-background);\n",
       "  flex-grow: 1;\n",
       "}\n",
       "\n",
       "#sk-container-id-4 div.sk-parallel {\n",
       "  display: flex;\n",
       "  align-items: stretch;\n",
       "  justify-content: center;\n",
       "  background-color: var(--sklearn-color-background);\n",
       "  position: relative;\n",
       "}\n",
       "\n",
       "#sk-container-id-4 div.sk-parallel-item {\n",
       "  display: flex;\n",
       "  flex-direction: column;\n",
       "}\n",
       "\n",
       "#sk-container-id-4 div.sk-parallel-item:first-child::after {\n",
       "  align-self: flex-end;\n",
       "  width: 50%;\n",
       "}\n",
       "\n",
       "#sk-container-id-4 div.sk-parallel-item:last-child::after {\n",
       "  align-self: flex-start;\n",
       "  width: 50%;\n",
       "}\n",
       "\n",
       "#sk-container-id-4 div.sk-parallel-item:only-child::after {\n",
       "  width: 0;\n",
       "}\n",
       "\n",
       "/* Serial-specific style estimator block */\n",
       "\n",
       "#sk-container-id-4 div.sk-serial {\n",
       "  display: flex;\n",
       "  flex-direction: column;\n",
       "  align-items: center;\n",
       "  background-color: var(--sklearn-color-background);\n",
       "  padding-right: 1em;\n",
       "  padding-left: 1em;\n",
       "}\n",
       "\n",
       "\n",
       "/* Toggleable style: style used for estimator/Pipeline/ColumnTransformer box that is\n",
       "clickable and can be expanded/collapsed.\n",
       "- Pipeline and ColumnTransformer use this feature and define the default style\n",
       "- Estimators will overwrite some part of the style using the `sk-estimator` class\n",
       "*/\n",
       "\n",
       "/* Pipeline and ColumnTransformer style (default) */\n",
       "\n",
       "#sk-container-id-4 div.sk-toggleable {\n",
       "  /* Default theme specific background. It is overwritten whether we have a\n",
       "  specific estimator or a Pipeline/ColumnTransformer */\n",
       "  background-color: var(--sklearn-color-background);\n",
       "}\n",
       "\n",
       "/* Toggleable label */\n",
       "#sk-container-id-4 label.sk-toggleable__label {\n",
       "  cursor: pointer;\n",
       "  display: block;\n",
       "  width: 100%;\n",
       "  margin-bottom: 0;\n",
       "  padding: 0.5em;\n",
       "  box-sizing: border-box;\n",
       "  text-align: center;\n",
       "}\n",
       "\n",
       "#sk-container-id-4 label.sk-toggleable__label-arrow:before {\n",
       "  /* Arrow on the left of the label */\n",
       "  content: \"▸\";\n",
       "  float: left;\n",
       "  margin-right: 0.25em;\n",
       "  color: var(--sklearn-color-icon);\n",
       "}\n",
       "\n",
       "#sk-container-id-4 label.sk-toggleable__label-arrow:hover:before {\n",
       "  color: var(--sklearn-color-text);\n",
       "}\n",
       "\n",
       "/* Toggleable content - dropdown */\n",
       "\n",
       "#sk-container-id-4 div.sk-toggleable__content {\n",
       "  max-height: 0;\n",
       "  max-width: 0;\n",
       "  overflow: hidden;\n",
       "  text-align: left;\n",
       "  /* unfitted */\n",
       "  background-color: var(--sklearn-color-unfitted-level-0);\n",
       "}\n",
       "\n",
       "#sk-container-id-4 div.sk-toggleable__content.fitted {\n",
       "  /* fitted */\n",
       "  background-color: var(--sklearn-color-fitted-level-0);\n",
       "}\n",
       "\n",
       "#sk-container-id-4 div.sk-toggleable__content pre {\n",
       "  margin: 0.2em;\n",
       "  border-radius: 0.25em;\n",
       "  color: var(--sklearn-color-text);\n",
       "  /* unfitted */\n",
       "  background-color: var(--sklearn-color-unfitted-level-0);\n",
       "}\n",
       "\n",
       "#sk-container-id-4 div.sk-toggleable__content.fitted pre {\n",
       "  /* unfitted */\n",
       "  background-color: var(--sklearn-color-fitted-level-0);\n",
       "}\n",
       "\n",
       "#sk-container-id-4 input.sk-toggleable__control:checked~div.sk-toggleable__content {\n",
       "  /* Expand drop-down */\n",
       "  max-height: 200px;\n",
       "  max-width: 100%;\n",
       "  overflow: auto;\n",
       "}\n",
       "\n",
       "#sk-container-id-4 input.sk-toggleable__control:checked~label.sk-toggleable__label-arrow:before {\n",
       "  content: \"▾\";\n",
       "}\n",
       "\n",
       "/* Pipeline/ColumnTransformer-specific style */\n",
       "\n",
       "#sk-container-id-4 div.sk-label input.sk-toggleable__control:checked~label.sk-toggleable__label {\n",
       "  color: var(--sklearn-color-text);\n",
       "  background-color: var(--sklearn-color-unfitted-level-2);\n",
       "}\n",
       "\n",
       "#sk-container-id-4 div.sk-label.fitted input.sk-toggleable__control:checked~label.sk-toggleable__label {\n",
       "  background-color: var(--sklearn-color-fitted-level-2);\n",
       "}\n",
       "\n",
       "/* Estimator-specific style */\n",
       "\n",
       "/* Colorize estimator box */\n",
       "#sk-container-id-4 div.sk-estimator input.sk-toggleable__control:checked~label.sk-toggleable__label {\n",
       "  /* unfitted */\n",
       "  background-color: var(--sklearn-color-unfitted-level-2);\n",
       "}\n",
       "\n",
       "#sk-container-id-4 div.sk-estimator.fitted input.sk-toggleable__control:checked~label.sk-toggleable__label {\n",
       "  /* fitted */\n",
       "  background-color: var(--sklearn-color-fitted-level-2);\n",
       "}\n",
       "\n",
       "#sk-container-id-4 div.sk-label label.sk-toggleable__label,\n",
       "#sk-container-id-4 div.sk-label label {\n",
       "  /* The background is the default theme color */\n",
       "  color: var(--sklearn-color-text-on-default-background);\n",
       "}\n",
       "\n",
       "/* On hover, darken the color of the background */\n",
       "#sk-container-id-4 div.sk-label:hover label.sk-toggleable__label {\n",
       "  color: var(--sklearn-color-text);\n",
       "  background-color: var(--sklearn-color-unfitted-level-2);\n",
       "}\n",
       "\n",
       "/* Label box, darken color on hover, fitted */\n",
       "#sk-container-id-4 div.sk-label.fitted:hover label.sk-toggleable__label.fitted {\n",
       "  color: var(--sklearn-color-text);\n",
       "  background-color: var(--sklearn-color-fitted-level-2);\n",
       "}\n",
       "\n",
       "/* Estimator label */\n",
       "\n",
       "#sk-container-id-4 div.sk-label label {\n",
       "  font-family: monospace;\n",
       "  font-weight: bold;\n",
       "  display: inline-block;\n",
       "  line-height: 1.2em;\n",
       "}\n",
       "\n",
       "#sk-container-id-4 div.sk-label-container {\n",
       "  text-align: center;\n",
       "}\n",
       "\n",
       "/* Estimator-specific */\n",
       "#sk-container-id-4 div.sk-estimator {\n",
       "  font-family: monospace;\n",
       "  border: 1px dotted var(--sklearn-color-border-box);\n",
       "  border-radius: 0.25em;\n",
       "  box-sizing: border-box;\n",
       "  margin-bottom: 0.5em;\n",
       "  /* unfitted */\n",
       "  background-color: var(--sklearn-color-unfitted-level-0);\n",
       "}\n",
       "\n",
       "#sk-container-id-4 div.sk-estimator.fitted {\n",
       "  /* fitted */\n",
       "  background-color: var(--sklearn-color-fitted-level-0);\n",
       "}\n",
       "\n",
       "/* on hover */\n",
       "#sk-container-id-4 div.sk-estimator:hover {\n",
       "  /* unfitted */\n",
       "  background-color: var(--sklearn-color-unfitted-level-2);\n",
       "}\n",
       "\n",
       "#sk-container-id-4 div.sk-estimator.fitted:hover {\n",
       "  /* fitted */\n",
       "  background-color: var(--sklearn-color-fitted-level-2);\n",
       "}\n",
       "\n",
       "/* Specification for estimator info (e.g. \"i\" and \"?\") */\n",
       "\n",
       "/* Common style for \"i\" and \"?\" */\n",
       "\n",
       ".sk-estimator-doc-link,\n",
       "a:link.sk-estimator-doc-link,\n",
       "a:visited.sk-estimator-doc-link {\n",
       "  float: right;\n",
       "  font-size: smaller;\n",
       "  line-height: 1em;\n",
       "  font-family: monospace;\n",
       "  background-color: var(--sklearn-color-background);\n",
       "  border-radius: 1em;\n",
       "  height: 1em;\n",
       "  width: 1em;\n",
       "  text-decoration: none !important;\n",
       "  margin-left: 1ex;\n",
       "  /* unfitted */\n",
       "  border: var(--sklearn-color-unfitted-level-1) 1pt solid;\n",
       "  color: var(--sklearn-color-unfitted-level-1);\n",
       "}\n",
       "\n",
       ".sk-estimator-doc-link.fitted,\n",
       "a:link.sk-estimator-doc-link.fitted,\n",
       "a:visited.sk-estimator-doc-link.fitted {\n",
       "  /* fitted */\n",
       "  border: var(--sklearn-color-fitted-level-1) 1pt solid;\n",
       "  color: var(--sklearn-color-fitted-level-1);\n",
       "}\n",
       "\n",
       "/* On hover */\n",
       "div.sk-estimator:hover .sk-estimator-doc-link:hover,\n",
       ".sk-estimator-doc-link:hover,\n",
       "div.sk-label-container:hover .sk-estimator-doc-link:hover,\n",
       ".sk-estimator-doc-link:hover {\n",
       "  /* unfitted */\n",
       "  background-color: var(--sklearn-color-unfitted-level-3);\n",
       "  color: var(--sklearn-color-background);\n",
       "  text-decoration: none;\n",
       "}\n",
       "\n",
       "div.sk-estimator.fitted:hover .sk-estimator-doc-link.fitted:hover,\n",
       ".sk-estimator-doc-link.fitted:hover,\n",
       "div.sk-label-container:hover .sk-estimator-doc-link.fitted:hover,\n",
       ".sk-estimator-doc-link.fitted:hover {\n",
       "  /* fitted */\n",
       "  background-color: var(--sklearn-color-fitted-level-3);\n",
       "  color: var(--sklearn-color-background);\n",
       "  text-decoration: none;\n",
       "}\n",
       "\n",
       "/* Span, style for the box shown on hovering the info icon */\n",
       ".sk-estimator-doc-link span {\n",
       "  display: none;\n",
       "  z-index: 9999;\n",
       "  position: relative;\n",
       "  font-weight: normal;\n",
       "  right: .2ex;\n",
       "  padding: .5ex;\n",
       "  margin: .5ex;\n",
       "  width: min-content;\n",
       "  min-width: 20ex;\n",
       "  max-width: 50ex;\n",
       "  color: var(--sklearn-color-text);\n",
       "  box-shadow: 2pt 2pt 4pt #999;\n",
       "  /* unfitted */\n",
       "  background: var(--sklearn-color-unfitted-level-0);\n",
       "  border: .5pt solid var(--sklearn-color-unfitted-level-3);\n",
       "}\n",
       "\n",
       ".sk-estimator-doc-link.fitted span {\n",
       "  /* fitted */\n",
       "  background: var(--sklearn-color-fitted-level-0);\n",
       "  border: var(--sklearn-color-fitted-level-3);\n",
       "}\n",
       "\n",
       ".sk-estimator-doc-link:hover span {\n",
       "  display: block;\n",
       "}\n",
       "\n",
       "/* \"?\"-specific style due to the `<a>` HTML tag */\n",
       "\n",
       "#sk-container-id-4 a.estimator_doc_link {\n",
       "  float: right;\n",
       "  font-size: 1rem;\n",
       "  line-height: 1em;\n",
       "  font-family: monospace;\n",
       "  background-color: var(--sklearn-color-background);\n",
       "  border-radius: 1rem;\n",
       "  height: 1rem;\n",
       "  width: 1rem;\n",
       "  text-decoration: none;\n",
       "  /* unfitted */\n",
       "  color: var(--sklearn-color-unfitted-level-1);\n",
       "  border: var(--sklearn-color-unfitted-level-1) 1pt solid;\n",
       "}\n",
       "\n",
       "#sk-container-id-4 a.estimator_doc_link.fitted {\n",
       "  /* fitted */\n",
       "  border: var(--sklearn-color-fitted-level-1) 1pt solid;\n",
       "  color: var(--sklearn-color-fitted-level-1);\n",
       "}\n",
       "\n",
       "/* On hover */\n",
       "#sk-container-id-4 a.estimator_doc_link:hover {\n",
       "  /* unfitted */\n",
       "  background-color: var(--sklearn-color-unfitted-level-3);\n",
       "  color: var(--sklearn-color-background);\n",
       "  text-decoration: none;\n",
       "}\n",
       "\n",
       "#sk-container-id-4 a.estimator_doc_link.fitted:hover {\n",
       "  /* fitted */\n",
       "  background-color: var(--sklearn-color-fitted-level-3);\n",
       "}\n",
       "</style><div id=\"sk-container-id-4\" class=\"sk-top-container\"><div class=\"sk-text-repr-fallback\"><pre>Pipeline(steps=[(&#x27;columntransformer&#x27;,\n",
       "                 ColumnTransformer(remainder=&#x27;passthrough&#x27;,\n",
       "                                   transformers=[(&#x27;onehotencoder&#x27;,\n",
       "                                                  OneHotEncoder(categories=[array([&#x27;Abarth&#x27;, &#x27;Alfa&#x27;, &#x27;Aston&#x27;, &#x27;Audi&#x27;, &#x27;BMW&#x27;, &#x27;Chevrolet&#x27;, &#x27;Chrysler&#x27;,\n",
       "       &#x27;Citroen&#x27;, &#x27;Daewoo&#x27;, &#x27;Dodge&#x27;, &#x27;Ferrari&#x27;, &#x27;Fiat&#x27;, &#x27;Ford&#x27;, &#x27;Foton&#x27;,\n",
       "       &#x27;GWM&#x27;, &#x27;Genesis&#x27;, &#x27;Great&#x27;, &#x27;HSV&#x27;, &#x27;Holden&#x27;, &#x27;Honda&#x27;, &#x27;Hyundai&#x27;,\n",
       "       &#x27;Infiniti&#x27;, &#x27;Jaguar&#x27;, &#x27;Jeep&#x27;, &#x27;Kia...\n",
       "       &#x27;Yarraville, VIC&#x27;, &#x27;Yass, NSW&#x27;, &#x27;Yatala, QLD&#x27;, &#x27;Youngtown, TAS&#x27;,\n",
       "       &#x27;Zetland, NSW&#x27;], dtype=object),\n",
       "                                                                            array([&#x27;Commercial&#x27;, &#x27;Convertible&#x27;, &#x27;Coupe&#x27;, &#x27;Hatchback&#x27;, &#x27;Other&#x27;,\n",
       "       &#x27;People Mover&#x27;, &#x27;SUV&#x27;, &#x27;Sedan&#x27;, &#x27;Ute / Tray&#x27;, &#x27;Wagon&#x27;],\n",
       "      dtype=object)]),\n",
       "                                                  [&#x27;Brand&#x27;, &#x27;Model&#x27;, &#x27;Car/Suv&#x27;,\n",
       "                                                   &#x27;Title&#x27;, &#x27;UsedOrNew&#x27;,\n",
       "                                                   &#x27;Transmission&#x27;, &#x27;DriveType&#x27;,\n",
       "                                                   &#x27;FuelType&#x27;, &#x27;ColourExtInt&#x27;,\n",
       "                                                   &#x27;Location&#x27;, &#x27;BodyType&#x27;])])),\n",
       "                (&#x27;linearregression&#x27;, LinearRegression())])</pre><b>In a Jupyter environment, please rerun this cell to show the HTML representation or trust the notebook. <br />On GitHub, the HTML representation is unable to render, please try loading this page with nbviewer.org.</b></div><div class=\"sk-container\" hidden><div class=\"sk-item sk-dashed-wrapped\"><div class=\"sk-label-container\"><div class=\"sk-label fitted sk-toggleable\"><input class=\"sk-toggleable__control sk-hidden--visually\" id=\"sk-estimator-id-10\" type=\"checkbox\" ><label for=\"sk-estimator-id-10\" class=\"sk-toggleable__label fitted sk-toggleable__label-arrow fitted\">&nbsp;&nbsp;Pipeline<a class=\"sk-estimator-doc-link fitted\" rel=\"noreferrer\" target=\"_blank\" href=\"https://scikit-learn.org/1.5/modules/generated/sklearn.pipeline.Pipeline.html\">?<span>Documentation for Pipeline</span></a><span class=\"sk-estimator-doc-link fitted\">i<span>Fitted</span></span></label><div class=\"sk-toggleable__content fitted\"><pre>Pipeline(steps=[(&#x27;columntransformer&#x27;,\n",
       "                 ColumnTransformer(remainder=&#x27;passthrough&#x27;,\n",
       "                                   transformers=[(&#x27;onehotencoder&#x27;,\n",
       "                                                  OneHotEncoder(categories=[array([&#x27;Abarth&#x27;, &#x27;Alfa&#x27;, &#x27;Aston&#x27;, &#x27;Audi&#x27;, &#x27;BMW&#x27;, &#x27;Chevrolet&#x27;, &#x27;Chrysler&#x27;,\n",
       "       &#x27;Citroen&#x27;, &#x27;Daewoo&#x27;, &#x27;Dodge&#x27;, &#x27;Ferrari&#x27;, &#x27;Fiat&#x27;, &#x27;Ford&#x27;, &#x27;Foton&#x27;,\n",
       "       &#x27;GWM&#x27;, &#x27;Genesis&#x27;, &#x27;Great&#x27;, &#x27;HSV&#x27;, &#x27;Holden&#x27;, &#x27;Honda&#x27;, &#x27;Hyundai&#x27;,\n",
       "       &#x27;Infiniti&#x27;, &#x27;Jaguar&#x27;, &#x27;Jeep&#x27;, &#x27;Kia...\n",
       "       &#x27;Yarraville, VIC&#x27;, &#x27;Yass, NSW&#x27;, &#x27;Yatala, QLD&#x27;, &#x27;Youngtown, TAS&#x27;,\n",
       "       &#x27;Zetland, NSW&#x27;], dtype=object),\n",
       "                                                                            array([&#x27;Commercial&#x27;, &#x27;Convertible&#x27;, &#x27;Coupe&#x27;, &#x27;Hatchback&#x27;, &#x27;Other&#x27;,\n",
       "       &#x27;People Mover&#x27;, &#x27;SUV&#x27;, &#x27;Sedan&#x27;, &#x27;Ute / Tray&#x27;, &#x27;Wagon&#x27;],\n",
       "      dtype=object)]),\n",
       "                                                  [&#x27;Brand&#x27;, &#x27;Model&#x27;, &#x27;Car/Suv&#x27;,\n",
       "                                                   &#x27;Title&#x27;, &#x27;UsedOrNew&#x27;,\n",
       "                                                   &#x27;Transmission&#x27;, &#x27;DriveType&#x27;,\n",
       "                                                   &#x27;FuelType&#x27;, &#x27;ColourExtInt&#x27;,\n",
       "                                                   &#x27;Location&#x27;, &#x27;BodyType&#x27;])])),\n",
       "                (&#x27;linearregression&#x27;, LinearRegression())])</pre></div> </div></div><div class=\"sk-serial\"><div class=\"sk-item sk-dashed-wrapped\"><div class=\"sk-label-container\"><div class=\"sk-label fitted sk-toggleable\"><input class=\"sk-toggleable__control sk-hidden--visually\" id=\"sk-estimator-id-11\" type=\"checkbox\" ><label for=\"sk-estimator-id-11\" class=\"sk-toggleable__label fitted sk-toggleable__label-arrow fitted\">&nbsp;columntransformer: ColumnTransformer<a class=\"sk-estimator-doc-link fitted\" rel=\"noreferrer\" target=\"_blank\" href=\"https://scikit-learn.org/1.5/modules/generated/sklearn.compose.ColumnTransformer.html\">?<span>Documentation for columntransformer: ColumnTransformer</span></a></label><div class=\"sk-toggleable__content fitted\"><pre>ColumnTransformer(remainder=&#x27;passthrough&#x27;,\n",
       "                  transformers=[(&#x27;onehotencoder&#x27;,\n",
       "                                 OneHotEncoder(categories=[array([&#x27;Abarth&#x27;, &#x27;Alfa&#x27;, &#x27;Aston&#x27;, &#x27;Audi&#x27;, &#x27;BMW&#x27;, &#x27;Chevrolet&#x27;, &#x27;Chrysler&#x27;,\n",
       "       &#x27;Citroen&#x27;, &#x27;Daewoo&#x27;, &#x27;Dodge&#x27;, &#x27;Ferrari&#x27;, &#x27;Fiat&#x27;, &#x27;Ford&#x27;, &#x27;Foton&#x27;,\n",
       "       &#x27;GWM&#x27;, &#x27;Genesis&#x27;, &#x27;Great&#x27;, &#x27;HSV&#x27;, &#x27;Holden&#x27;, &#x27;Honda&#x27;, &#x27;Hyundai&#x27;,\n",
       "       &#x27;Infiniti&#x27;, &#x27;Jaguar&#x27;, &#x27;Jeep&#x27;, &#x27;Kia&#x27;, &#x27;LDV&#x27;, &#x27;Land&#x27;, &#x27;Lexus&#x27;, &#x27;MG&#x27;,\n",
       "       &#x27;Mahindra...\n",
       "       &#x27;Woongoolba, QLD&#x27;, &#x27;Yagoona, NSW&#x27;, &#x27;Yallah, NSW&#x27;, &#x27;Yamanto, QLD&#x27;,\n",
       "       &#x27;Yarraville, VIC&#x27;, &#x27;Yass, NSW&#x27;, &#x27;Yatala, QLD&#x27;, &#x27;Youngtown, TAS&#x27;,\n",
       "       &#x27;Zetland, NSW&#x27;], dtype=object),\n",
       "                                                           array([&#x27;Commercial&#x27;, &#x27;Convertible&#x27;, &#x27;Coupe&#x27;, &#x27;Hatchback&#x27;, &#x27;Other&#x27;,\n",
       "       &#x27;People Mover&#x27;, &#x27;SUV&#x27;, &#x27;Sedan&#x27;, &#x27;Ute / Tray&#x27;, &#x27;Wagon&#x27;],\n",
       "      dtype=object)]),\n",
       "                                 [&#x27;Brand&#x27;, &#x27;Model&#x27;, &#x27;Car/Suv&#x27;, &#x27;Title&#x27;,\n",
       "                                  &#x27;UsedOrNew&#x27;, &#x27;Transmission&#x27;, &#x27;DriveType&#x27;,\n",
       "                                  &#x27;FuelType&#x27;, &#x27;ColourExtInt&#x27;, &#x27;Location&#x27;,\n",
       "                                  &#x27;BodyType&#x27;])])</pre></div> </div></div><div class=\"sk-parallel\"><div class=\"sk-parallel-item\"><div class=\"sk-item\"><div class=\"sk-label-container\"><div class=\"sk-label fitted sk-toggleable\"><input class=\"sk-toggleable__control sk-hidden--visually\" id=\"sk-estimator-id-12\" type=\"checkbox\" ><label for=\"sk-estimator-id-12\" class=\"sk-toggleable__label fitted sk-toggleable__label-arrow fitted\">onehotencoder</label><div class=\"sk-toggleable__content fitted\"><pre>[&#x27;Brand&#x27;, &#x27;Model&#x27;, &#x27;Car/Suv&#x27;, &#x27;Title&#x27;, &#x27;UsedOrNew&#x27;, &#x27;Transmission&#x27;, &#x27;DriveType&#x27;, &#x27;FuelType&#x27;, &#x27;ColourExtInt&#x27;, &#x27;Location&#x27;, &#x27;BodyType&#x27;]</pre></div> </div></div><div class=\"sk-serial\"><div class=\"sk-item\"><div class=\"sk-estimator fitted sk-toggleable\"><input class=\"sk-toggleable__control sk-hidden--visually\" id=\"sk-estimator-id-13\" type=\"checkbox\" ><label for=\"sk-estimator-id-13\" class=\"sk-toggleable__label fitted sk-toggleable__label-arrow fitted\">&nbsp;OneHotEncoder<a class=\"sk-estimator-doc-link fitted\" rel=\"noreferrer\" target=\"_blank\" href=\"https://scikit-learn.org/1.5/modules/generated/sklearn.preprocessing.OneHotEncoder.html\">?<span>Documentation for OneHotEncoder</span></a></label><div class=\"sk-toggleable__content fitted\"><pre>OneHotEncoder(categories=[array([&#x27;Abarth&#x27;, &#x27;Alfa&#x27;, &#x27;Aston&#x27;, &#x27;Audi&#x27;, &#x27;BMW&#x27;, &#x27;Chevrolet&#x27;, &#x27;Chrysler&#x27;,\n",
       "       &#x27;Citroen&#x27;, &#x27;Daewoo&#x27;, &#x27;Dodge&#x27;, &#x27;Ferrari&#x27;, &#x27;Fiat&#x27;, &#x27;Ford&#x27;, &#x27;Foton&#x27;,\n",
       "       &#x27;GWM&#x27;, &#x27;Genesis&#x27;, &#x27;Great&#x27;, &#x27;HSV&#x27;, &#x27;Holden&#x27;, &#x27;Honda&#x27;, &#x27;Hyundai&#x27;,\n",
       "       &#x27;Infiniti&#x27;, &#x27;Jaguar&#x27;, &#x27;Jeep&#x27;, &#x27;Kia&#x27;, &#x27;LDV&#x27;, &#x27;Land&#x27;, &#x27;Lexus&#x27;, &#x27;MG&#x27;,\n",
       "       &#x27;Mahindra&#x27;, &#x27;Maserati&#x27;, &#x27;Mazda&#x27;, &#x27;McLaren&#x27;, &#x27;Mercedes-Benz&#x27;,\n",
       "       &#x27;Mini&#x27;, &#x27;Mitsubishi&#x27;, &#x27;Nissa...\n",
       "       &#x27;Winnellie, NT&#x27;, &#x27;Wodonga, VIC&#x27;, &#x27;Wollongong, NSW&#x27;,\n",
       "       &#x27;Wonthella, WA&#x27;, &#x27;Woodridge, QLD&#x27;, &#x27;Woodville, SA&#x27;,\n",
       "       &#x27;Woongoolba, QLD&#x27;, &#x27;Yagoona, NSW&#x27;, &#x27;Yallah, NSW&#x27;, &#x27;Yamanto, QLD&#x27;,\n",
       "       &#x27;Yarraville, VIC&#x27;, &#x27;Yass, NSW&#x27;, &#x27;Yatala, QLD&#x27;, &#x27;Youngtown, TAS&#x27;,\n",
       "       &#x27;Zetland, NSW&#x27;], dtype=object),\n",
       "                          array([&#x27;Commercial&#x27;, &#x27;Convertible&#x27;, &#x27;Coupe&#x27;, &#x27;Hatchback&#x27;, &#x27;Other&#x27;,\n",
       "       &#x27;People Mover&#x27;, &#x27;SUV&#x27;, &#x27;Sedan&#x27;, &#x27;Ute / Tray&#x27;, &#x27;Wagon&#x27;],\n",
       "      dtype=object)])</pre></div> </div></div></div></div></div><div class=\"sk-parallel-item\"><div class=\"sk-item\"><div class=\"sk-label-container\"><div class=\"sk-label fitted sk-toggleable\"><input class=\"sk-toggleable__control sk-hidden--visually\" id=\"sk-estimator-id-14\" type=\"checkbox\" ><label for=\"sk-estimator-id-14\" class=\"sk-toggleable__label fitted sk-toggleable__label-arrow fitted\">remainder</label><div class=\"sk-toggleable__content fitted\"><pre>[&#x27;Year&#x27;, &#x27;Engine&#x27;, &#x27;FuelConsumption&#x27;, &#x27;Kilometres&#x27;, &#x27;CylindersinEngine&#x27;, &#x27;Doors&#x27;, &#x27;Seats&#x27;]</pre></div> </div></div><div class=\"sk-serial\"><div class=\"sk-item\"><div class=\"sk-estimator fitted sk-toggleable\"><input class=\"sk-toggleable__control sk-hidden--visually\" id=\"sk-estimator-id-15\" type=\"checkbox\" ><label for=\"sk-estimator-id-15\" class=\"sk-toggleable__label fitted sk-toggleable__label-arrow fitted\">passthrough</label><div class=\"sk-toggleable__content fitted\"><pre>passthrough</pre></div> </div></div></div></div></div></div></div><div class=\"sk-item\"><div class=\"sk-estimator fitted sk-toggleable\"><input class=\"sk-toggleable__control sk-hidden--visually\" id=\"sk-estimator-id-16\" type=\"checkbox\" ><label for=\"sk-estimator-id-16\" class=\"sk-toggleable__label fitted sk-toggleable__label-arrow fitted\">&nbsp;LinearRegression<a class=\"sk-estimator-doc-link fitted\" rel=\"noreferrer\" target=\"_blank\" href=\"https://scikit-learn.org/1.5/modules/generated/sklearn.linear_model.LinearRegression.html\">?<span>Documentation for LinearRegression</span></a></label><div class=\"sk-toggleable__content fitted\"><pre>LinearRegression()</pre></div> </div></div></div></div></div></div>"
      ],
      "text/plain": [
       "Pipeline(steps=[('columntransformer',\n",
       "                 ColumnTransformer(remainder='passthrough',\n",
       "                                   transformers=[('onehotencoder',\n",
       "                                                  OneHotEncoder(categories=[array(['Abarth', 'Alfa', 'Aston', 'Audi', 'BMW', 'Chevrolet', 'Chrysler',\n",
       "       'Citroen', 'Daewoo', 'Dodge', 'Ferrari', 'Fiat', 'Ford', 'Foton',\n",
       "       'GWM', 'Genesis', 'Great', 'HSV', 'Holden', 'Honda', 'Hyundai',\n",
       "       'Infiniti', 'Jaguar', 'Jeep', 'Kia...\n",
       "       'Yarraville, VIC', 'Yass, NSW', 'Yatala, QLD', 'Youngtown, TAS',\n",
       "       'Zetland, NSW'], dtype=object),\n",
       "                                                                            array(['Commercial', 'Convertible', 'Coupe', 'Hatchback', 'Other',\n",
       "       'People Mover', 'SUV', 'Sedan', 'Ute / Tray', 'Wagon'],\n",
       "      dtype=object)]),\n",
       "                                                  ['Brand', 'Model', 'Car/Suv',\n",
       "                                                   'Title', 'UsedOrNew',\n",
       "                                                   'Transmission', 'DriveType',\n",
       "                                                   'FuelType', 'ColourExtInt',\n",
       "                                                   'Location', 'BodyType'])])),\n",
       "                ('linearregression', LinearRegression())])"
      ]
     },
     "execution_count": 75,
     "metadata": {},
     "output_type": "execute_result"
    }
   ],
   "source": [
    "pipe.fit(X_train,y_train)"
   ]
  },
  {
   "cell_type": "code",
   "execution_count": 76,
   "metadata": {},
   "outputs": [],
   "source": [
    "y_pred=pipe.predict(X_test)"
   ]
  },
  {
   "cell_type": "markdown",
   "metadata": {},
   "source": [
    "Checking R2 Score"
   ]
  },
  {
   "cell_type": "code",
   "execution_count": 77,
   "metadata": {},
   "outputs": [
    {
     "data": {
      "text/plain": [
       "0.6115587068045547"
      ]
     },
     "execution_count": 77,
     "metadata": {},
     "output_type": "execute_result"
    }
   ],
   "source": [
    "r2_score(y_test,y_pred)"
   ]
  },
  {
   "cell_type": "markdown",
   "metadata": {},
   "source": [
    "Finding the model with a random state of TrainTestSplit where the model was found to give almost 0.92 as r2_score"
   ]
  },
  {
   "cell_type": "code",
   "execution_count": 78,
   "metadata": {},
   "outputs": [],
   "source": [
    "scores=[]\n",
    "for i in range(1000):\n",
    "    X_train,X_test,y_train,y_test=train_test_split(X,y,test_size=0.1,random_state=i)\n",
    "    lr=LinearRegression()\n",
    "    pipe=make_pipeline(column_trans,lr)\n",
    "    pipe.fit(X_train,y_train)\n",
    "    y_pred=pipe.predict(X_test)\n",
    "    scores.append(r2_score(y_test,y_pred))"
   ]
  },
  {
   "cell_type": "code",
   "execution_count": 79,
   "metadata": {},
   "outputs": [
    {
     "data": {
      "text/plain": [
       "np.int64(264)"
      ]
     },
     "execution_count": 79,
     "metadata": {},
     "output_type": "execute_result"
    }
   ],
   "source": [
    "np.argmax(scores)"
   ]
  },
  {
   "cell_type": "code",
   "execution_count": 80,
   "metadata": {},
   "outputs": [
    {
     "data": {
      "text/plain": [
       "0.7784799709338924"
      ]
     },
     "execution_count": 80,
     "metadata": {},
     "output_type": "execute_result"
    }
   ],
   "source": [
    "scores[np.argmax(scores)]"
   ]
  },
  {
   "cell_type": "code",
   "execution_count": 82,
   "metadata": {},
   "outputs": [
    {
     "data": {
      "text/plain": [
       "array([46578.25920572])"
      ]
     },
     "execution_count": 82,
     "metadata": {},
     "output_type": "execute_result"
    }
   ],
   "source": [
    "pipe.predict(pd.DataFrame(columns=X_test.columns,data=np.array(['Toyota',\t2021,'Corolla','Hatchback','2021 Toyota Corolla ZR Hybrid','USED','Automatic',\t1.8,'Front','Hybrid',4.2,13694,'Black / -','Blacktown, NSW',4,'Hatchback',5,\t5]).reshape(1,18)))\n"
   ]
  },
  {
   "cell_type": "code",
   "execution_count": 83,
   "metadata": {},
   "outputs": [
    {
     "data": {
      "text/plain": [
       "Index(['Brand', 'Year', 'Model', 'Car/Suv', 'Title', 'UsedOrNew',\n",
       "       'Transmission', 'Engine', 'DriveType', 'FuelType', 'FuelConsumption',\n",
       "       'Kilometres', 'ColourExtInt', 'Location', 'CylindersinEngine',\n",
       "       'BodyType', 'Doors', 'Seats'],\n",
       "      dtype='object')"
      ]
     },
     "execution_count": 83,
     "metadata": {},
     "output_type": "execute_result"
    }
   ],
   "source": [
    "X_test.columns"
   ]
  },
  {
   "cell_type": "markdown",
   "metadata": {},
   "source": [
    "The best model is found at a certain random state"
   ]
  },
  {
   "cell_type": "code",
   "execution_count": 84,
   "metadata": {},
   "outputs": [
    {
     "data": {
      "text/plain": [
       "0.7784799709338924"
      ]
     },
     "execution_count": 84,
     "metadata": {},
     "output_type": "execute_result"
    }
   ],
   "source": [
    "X_train,X_test,y_train,y_test=train_test_split(X,y,test_size=0.1,random_state=np.argmax(scores))\n",
    "lr=LinearRegression()\n",
    "pipe=make_pipeline(column_trans,lr)\n",
    "pipe.fit(X_train,y_train)\n",
    "y_pred=pipe.predict(X_test)\n",
    "r2_score(y_test,y_pred)"
   ]
  },
  {
   "cell_type": "code",
   "execution_count": 85,
   "metadata": {},
   "outputs": [],
   "source": [
    "import pickle"
   ]
  },
  {
   "cell_type": "code",
   "execution_count": 87,
   "metadata": {},
   "outputs": [],
   "source": [
    "pickle.dump(pipe,open('../model/LinearRegressionModelAus.pkl','wb'))"
   ]
  },
  {
   "cell_type": "code",
   "execution_count": 107,
   "metadata": {},
   "outputs": [
    {
     "name": "stdout",
     "output_type": "stream",
     "text": [
      "['Brand', 'Year', 'Model', 'Car/Suv', 'Title', 'UsedOrNew', 'Transmission', 'Engine', 'DriveType', 'FuelType', 'FuelConsumption', 'Kilometres', 'ColourExtInt', 'Location', 'CylindersinEngine', 'BodyType', 'Doors', 'Seats']\n",
      "Brand                                          Subaru\n",
      "Year                                             2016\n",
      "Model                                         Outback\n",
      "Car/Suv                                           SUV\n",
      "Title                2016 Subaru Outback 2.5I Premium\n",
      "UsedOrNew                                        USED\n",
      "Transmission                                Automatic\n",
      "Engine                                            2.5\n",
      "DriveType                                         AWD\n",
      "FuelType                                      Premium\n",
      "FuelConsumption                                   7.3\n",
      "Kilometres                                      74983\n",
      "ColourExtInt                           Silver / Black\n",
      "Location                         North Narrabeen, NSW\n",
      "CylindersinEngine                                   4\n",
      "BodyType                                          SUV\n",
      "Doors                                               4\n",
      "Seats                                               5\n",
      "Name: 70, dtype: object\n"
     ]
    },
    {
     "data": {
      "text/plain": [
       "array([38622.19627426])"
      ]
     },
     "execution_count": 107,
     "metadata": {},
     "output_type": "execute_result"
    }
   ],
   "source": [
    "col=car.columns.to_list()\n",
    "col=col[0:18]\n",
    "print(col)\n",
    "row=car.iloc[70]\n",
    "row=row[0:18]\n",
    "print(row)\n",
    "\n",
    "pipe.predict(pd.DataFrame(columns=col,data=np.array(row).reshape(1,18)))"
   ]
  },
  {
   "cell_type": "code",
   "execution_count": null,
   "metadata": {},
   "outputs": [],
   "source": []
  }
 ],
 "metadata": {
  "kernelspec": {
   "display_name": "Python 3",
   "language": "python",
   "name": "python3"
  },
  "language_info": {
   "codemirror_mode": {
    "name": "ipython",
    "version": 3
   },
   "file_extension": ".py",
   "mimetype": "text/x-python",
   "name": "python",
   "nbconvert_exporter": "python",
   "pygments_lexer": "ipython3",
   "version": "3.12.7"
  }
 },
 "nbformat": 4,
 "nbformat_minor": 2
}
